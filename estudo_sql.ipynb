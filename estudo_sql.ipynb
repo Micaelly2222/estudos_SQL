{
 "cells": [
  {
   "cell_type": "code",
   "execution_count": 1,
   "metadata": {},
   "outputs": [
    {
     "name": "stdout",
     "output_type": "stream",
     "text": [
      "Requirement already satisfied: faker in c:\\users\\micaellysantos\\appdata\\local\\programs\\python\\python311\\lib\\site-packages (16.6.0)\n",
      "Requirement already satisfied: python-dateutil>=2.4 in c:\\users\\micaellysantos\\appdata\\local\\programs\\python\\python311\\lib\\site-packages (from faker) (2.8.2)\n",
      "Requirement already satisfied: six>=1.5 in c:\\users\\micaellysantos\\appdata\\local\\programs\\python\\python311\\lib\\site-packages (from python-dateutil>=2.4->faker) (1.16.0)\n",
      "Note: you may need to restart the kernel to use updated packages.\n"
     ]
    }
   ],
   "source": [
    "pip install faker"
   ]
  },
  {
   "cell_type": "code",
   "execution_count": 5,
   "metadata": {
    "ExecuteTime": {
     "end_time": "2022-01-06T17:26:09.537699Z",
     "start_time": "2022-01-06T17:26:05.641461Z"
    }
   },
   "outputs": [
    {
     "name": "stdout",
     "output_type": "stream",
     "text": [
      "The sql extension is already loaded. To reload it, use:\n",
      "  %reload_ext sql\n"
     ]
    }
   ],
   "source": [
    "import pandas as pd\n",
    "import random\n",
    "\n",
    "from faker import Faker\n",
    "\n",
    "import sqlite3\n",
    "\n",
    "%load_ext sql"
   ]
  },
  {
   "cell_type": "code",
   "execution_count": 6,
   "metadata": {
    "ExecuteTime": {
     "end_time": "2022-01-06T17:26:09.569021Z",
     "start_time": "2022-01-06T17:26:09.566016Z"
    }
   },
   "outputs": [],
   "source": [
    "N_PRODUTOS = 100\n",
    "N_CLIENTES = 20\n",
    "N_COMPRAS = 500"
   ]
  },
  {
   "cell_type": "code",
   "execution_count": 7,
   "metadata": {
    "ExecuteTime": {
     "end_time": "2022-01-06T17:26:09.879248Z",
     "start_time": "2022-01-06T17:26:09.601517Z"
    }
   },
   "outputs": [
    {
     "data": {
      "text/plain": [
       "'Sra. Sarah Gonçalves'"
      ]
     },
     "execution_count": 7,
     "metadata": {},
     "output_type": "execute_result"
    }
   ],
   "source": [
    "faker = Faker('pt_BR')\n",
    "faker.name()"
   ]
  },
  {
   "cell_type": "code",
   "execution_count": 8,
   "metadata": {
    "ExecuteTime": {
     "end_time": "2022-01-06T17:26:09.920696Z",
     "start_time": "2022-01-06T17:26:09.901211Z"
    }
   },
   "outputs": [
    {
     "data": {
      "text/plain": [
       "<sqlite3.Connection at 0x229c7fe6a70>"
      ]
     },
     "execution_count": 8,
     "metadata": {},
     "output_type": "execute_result"
    }
   ],
   "source": [
    "db = sqlite3.connect('TesteSQL.db')\n",
    "db"
   ]
  },
  {
   "cell_type": "code",
   "execution_count": 9,
   "metadata": {
    "ExecuteTime": {
     "end_time": "2022-01-06T17:26:10.013760Z",
     "start_time": "2022-01-06T17:26:09.949200Z"
    }
   },
   "outputs": [],
   "source": [
    "%sql sqlite:///TesteSQL.db"
   ]
  },
  {
   "cell_type": "code",
   "execution_count": 10,
   "metadata": {
    "ExecuteTime": {
     "end_time": "2022-01-06T17:26:10.071698Z",
     "start_time": "2022-01-06T17:26:10.040696Z"
    }
   },
   "outputs": [
    {
     "data": {
      "text/html": [
       "<div>\n",
       "<style scoped>\n",
       "    .dataframe tbody tr th:only-of-type {\n",
       "        vertical-align: middle;\n",
       "    }\n",
       "\n",
       "    .dataframe tbody tr th {\n",
       "        vertical-align: top;\n",
       "    }\n",
       "\n",
       "    .dataframe thead th {\n",
       "        text-align: right;\n",
       "    }\n",
       "</style>\n",
       "<table border=\"1\" class=\"dataframe\">\n",
       "  <thead>\n",
       "    <tr style=\"text-align: right;\">\n",
       "      <th></th>\n",
       "      <th>produto</th>\n",
       "      <th>preço</th>\n",
       "    </tr>\n",
       "  </thead>\n",
       "  <tbody>\n",
       "    <tr>\n",
       "      <th>0</th>\n",
       "      <td>prod 00</td>\n",
       "      <td>4.49</td>\n",
       "    </tr>\n",
       "    <tr>\n",
       "      <th>1</th>\n",
       "      <td>prod 01</td>\n",
       "      <td>8.88</td>\n",
       "    </tr>\n",
       "    <tr>\n",
       "      <th>2</th>\n",
       "      <td>prod 02</td>\n",
       "      <td>0.68</td>\n",
       "    </tr>\n",
       "    <tr>\n",
       "      <th>3</th>\n",
       "      <td>prod 03</td>\n",
       "      <td>9.55</td>\n",
       "    </tr>\n",
       "    <tr>\n",
       "      <th>4</th>\n",
       "      <td>prod 04</td>\n",
       "      <td>7.93</td>\n",
       "    </tr>\n",
       "  </tbody>\n",
       "</table>\n",
       "</div>"
      ],
      "text/plain": [
       "   produto  preço\n",
       "0  prod 00   4.49\n",
       "1  prod 01   8.88\n",
       "2  prod 02   0.68\n",
       "3  prod 03   9.55\n",
       "4  prod 04   7.93"
      ]
     },
     "execution_count": 10,
     "metadata": {},
     "output_type": "execute_result"
    }
   ],
   "source": [
    "produtos = pd.DataFrame([[f'prod {i:02}', round(random.random() * 10, 2)] \n",
    "                         for i in range(N_PRODUTOS)], \n",
    "                        columns=['produto', 'preço'])\n",
    "produtos.head()"
   ]
  },
  {
   "cell_type": "code",
   "execution_count": 11,
   "metadata": {
    "ExecuteTime": {
     "end_time": "2022-01-06T17:26:10.161233Z",
     "start_time": "2022-01-06T17:26:10.123198Z"
    }
   },
   "outputs": [
    {
     "data": {
      "text/plain": [
       "100"
      ]
     },
     "execution_count": 11,
     "metadata": {},
     "output_type": "execute_result"
    }
   ],
   "source": [
    "produtos.to_sql('produtos', db, index_label='id', if_exists='replace')"
   ]
  },
  {
   "cell_type": "code",
   "execution_count": 12,
   "metadata": {
    "ExecuteTime": {
     "end_time": "2022-01-06T17:26:12.231141Z",
     "start_time": "2022-01-06T17:26:12.218140Z"
    }
   },
   "outputs": [
    {
     "data": {
      "text/html": [
       "<div>\n",
       "<style scoped>\n",
       "    .dataframe tbody tr th:only-of-type {\n",
       "        vertical-align: middle;\n",
       "    }\n",
       "\n",
       "    .dataframe tbody tr th {\n",
       "        vertical-align: top;\n",
       "    }\n",
       "\n",
       "    .dataframe thead th {\n",
       "        text-align: right;\n",
       "    }\n",
       "</style>\n",
       "<table border=\"1\" class=\"dataframe\">\n",
       "  <thead>\n",
       "    <tr style=\"text-align: right;\">\n",
       "      <th></th>\n",
       "      <th>produto</th>\n",
       "      <th>preço</th>\n",
       "    </tr>\n",
       "    <tr>\n",
       "      <th>id</th>\n",
       "      <th></th>\n",
       "      <th></th>\n",
       "    </tr>\n",
       "  </thead>\n",
       "  <tbody>\n",
       "    <tr>\n",
       "      <th>0</th>\n",
       "      <td>prod 00</td>\n",
       "      <td>4.49</td>\n",
       "    </tr>\n",
       "    <tr>\n",
       "      <th>1</th>\n",
       "      <td>prod 01</td>\n",
       "      <td>8.88</td>\n",
       "    </tr>\n",
       "    <tr>\n",
       "      <th>2</th>\n",
       "      <td>prod 02</td>\n",
       "      <td>0.68</td>\n",
       "    </tr>\n",
       "    <tr>\n",
       "      <th>3</th>\n",
       "      <td>prod 03</td>\n",
       "      <td>9.55</td>\n",
       "    </tr>\n",
       "    <tr>\n",
       "      <th>4</th>\n",
       "      <td>prod 04</td>\n",
       "      <td>7.93</td>\n",
       "    </tr>\n",
       "  </tbody>\n",
       "</table>\n",
       "</div>"
      ],
      "text/plain": [
       "    produto  preço\n",
       "id                \n",
       "0   prod 00   4.49\n",
       "1   prod 01   8.88\n",
       "2   prod 02   0.68\n",
       "3   prod 03   9.55\n",
       "4   prod 04   7.93"
      ]
     },
     "execution_count": 12,
     "metadata": {},
     "output_type": "execute_result"
    }
   ],
   "source": [
    "pd.read_sql(\"SELECT * FROM produtos;\", db, 'id').head()"
   ]
  },
  {
   "cell_type": "code",
   "execution_count": 13,
   "metadata": {
    "ExecuteTime": {
     "end_time": "2022-01-06T17:26:12.728044Z",
     "start_time": "2022-01-06T17:26:12.709050Z"
    }
   },
   "outputs": [
    {
     "data": {
      "text/html": [
       "<div>\n",
       "<style scoped>\n",
       "    .dataframe tbody tr th:only-of-type {\n",
       "        vertical-align: middle;\n",
       "    }\n",
       "\n",
       "    .dataframe tbody tr th {\n",
       "        vertical-align: top;\n",
       "    }\n",
       "\n",
       "    .dataframe thead th {\n",
       "        text-align: right;\n",
       "    }\n",
       "</style>\n",
       "<table border=\"1\" class=\"dataframe\">\n",
       "  <thead>\n",
       "    <tr style=\"text-align: right;\">\n",
       "      <th></th>\n",
       "      <th>nome</th>\n",
       "      <th>email</th>\n",
       "      <th>idade</th>\n",
       "    </tr>\n",
       "  </thead>\n",
       "  <tbody>\n",
       "    <tr>\n",
       "      <th>0</th>\n",
       "      <td>Eduarda Gonçalves</td>\n",
       "      <td>lbarros@bol.com.br</td>\n",
       "      <td>39</td>\n",
       "    </tr>\n",
       "    <tr>\n",
       "      <th>1</th>\n",
       "      <td>Bruno da Rosa</td>\n",
       "      <td>ocardoso@yahoo.com.br</td>\n",
       "      <td>33</td>\n",
       "    </tr>\n",
       "    <tr>\n",
       "      <th>2</th>\n",
       "      <td>Srta. Ana Beatriz Jesus</td>\n",
       "      <td>gustavo-henrique55@yahoo.com.br</td>\n",
       "      <td>30</td>\n",
       "    </tr>\n",
       "    <tr>\n",
       "      <th>3</th>\n",
       "      <td>Emanuel das Neves</td>\n",
       "      <td>cardosoraquel@hotmail.com</td>\n",
       "      <td>32</td>\n",
       "    </tr>\n",
       "    <tr>\n",
       "      <th>4</th>\n",
       "      <td>Srta. Amanda Moreira</td>\n",
       "      <td>ana-liviacastro@ig.com.br</td>\n",
       "      <td>45</td>\n",
       "    </tr>\n",
       "  </tbody>\n",
       "</table>\n",
       "</div>"
      ],
      "text/plain": [
       "                      nome                            email  idade\n",
       "0        Eduarda Gonçalves               lbarros@bol.com.br     39\n",
       "1            Bruno da Rosa            ocardoso@yahoo.com.br     33\n",
       "2  Srta. Ana Beatriz Jesus  gustavo-henrique55@yahoo.com.br     30\n",
       "3        Emanuel das Neves        cardosoraquel@hotmail.com     32\n",
       "4     Srta. Amanda Moreira        ana-liviacastro@ig.com.br     45"
      ]
     },
     "execution_count": 13,
     "metadata": {},
     "output_type": "execute_result"
    }
   ],
   "source": [
    "clientes = pd.DataFrame([\n",
    "    [faker.name(), faker.free_email(), random.randint(18, 60)]\n",
    "for _ in range(N_CLIENTES)], columns=['nome', 'email', 'idade'])\n",
    "\n",
    "clientes.head()"
   ]
  },
  {
   "cell_type": "code",
   "execution_count": 14,
   "metadata": {
    "ExecuteTime": {
     "end_time": "2022-01-06T17:26:13.435236Z",
     "start_time": "2022-01-06T17:26:13.387559Z"
    }
   },
   "outputs": [
    {
     "data": {
      "text/html": [
       "<div>\n",
       "<style scoped>\n",
       "    .dataframe tbody tr th:only-of-type {\n",
       "        vertical-align: middle;\n",
       "    }\n",
       "\n",
       "    .dataframe tbody tr th {\n",
       "        vertical-align: top;\n",
       "    }\n",
       "\n",
       "    .dataframe thead th {\n",
       "        text-align: right;\n",
       "    }\n",
       "</style>\n",
       "<table border=\"1\" class=\"dataframe\">\n",
       "  <thead>\n",
       "    <tr style=\"text-align: right;\">\n",
       "      <th></th>\n",
       "      <th>nome</th>\n",
       "      <th>email</th>\n",
       "      <th>idade</th>\n",
       "    </tr>\n",
       "    <tr>\n",
       "      <th>id</th>\n",
       "      <th></th>\n",
       "      <th></th>\n",
       "      <th></th>\n",
       "    </tr>\n",
       "  </thead>\n",
       "  <tbody>\n",
       "    <tr>\n",
       "      <th>0</th>\n",
       "      <td>Eduarda Gonçalves</td>\n",
       "      <td>lbarros@bol.com.br</td>\n",
       "      <td>39</td>\n",
       "    </tr>\n",
       "    <tr>\n",
       "      <th>1</th>\n",
       "      <td>Bruno da Rosa</td>\n",
       "      <td>ocardoso@yahoo.com.br</td>\n",
       "      <td>33</td>\n",
       "    </tr>\n",
       "    <tr>\n",
       "      <th>2</th>\n",
       "      <td>Srta. Ana Beatriz Jesus</td>\n",
       "      <td>gustavo-henrique55@yahoo.com.br</td>\n",
       "      <td>30</td>\n",
       "    </tr>\n",
       "    <tr>\n",
       "      <th>3</th>\n",
       "      <td>Emanuel das Neves</td>\n",
       "      <td>cardosoraquel@hotmail.com</td>\n",
       "      <td>32</td>\n",
       "    </tr>\n",
       "    <tr>\n",
       "      <th>4</th>\n",
       "      <td>Srta. Amanda Moreira</td>\n",
       "      <td>ana-liviacastro@ig.com.br</td>\n",
       "      <td>45</td>\n",
       "    </tr>\n",
       "  </tbody>\n",
       "</table>\n",
       "</div>"
      ],
      "text/plain": [
       "                       nome                            email  idade\n",
       "id                                                                 \n",
       "0         Eduarda Gonçalves               lbarros@bol.com.br     39\n",
       "1             Bruno da Rosa            ocardoso@yahoo.com.br     33\n",
       "2   Srta. Ana Beatriz Jesus  gustavo-henrique55@yahoo.com.br     30\n",
       "3         Emanuel das Neves        cardosoraquel@hotmail.com     32\n",
       "4      Srta. Amanda Moreira        ana-liviacastro@ig.com.br     45"
      ]
     },
     "execution_count": 14,
     "metadata": {},
     "output_type": "execute_result"
    }
   ],
   "source": [
    "clientes.to_sql('clientes', db, index_label='id', if_exists='replace')\n",
    "pd.read_sql(\"SELECT * FROM clientes;\", db, 'id').head()"
   ]
  },
  {
   "cell_type": "code",
   "execution_count": 15,
   "metadata": {
    "ExecuteTime": {
     "end_time": "2022-01-06T17:26:15.510576Z",
     "start_time": "2022-01-06T17:26:15.499574Z"
    }
   },
   "outputs": [
    {
     "data": {
      "text/html": [
       "<div>\n",
       "<style scoped>\n",
       "    .dataframe tbody tr th:only-of-type {\n",
       "        vertical-align: middle;\n",
       "    }\n",
       "\n",
       "    .dataframe tbody tr th {\n",
       "        vertical-align: top;\n",
       "    }\n",
       "\n",
       "    .dataframe thead th {\n",
       "        text-align: right;\n",
       "    }\n",
       "</style>\n",
       "<table border=\"1\" class=\"dataframe\">\n",
       "  <thead>\n",
       "    <tr style=\"text-align: right;\">\n",
       "      <th></th>\n",
       "      <th>id_cliente</th>\n",
       "      <th>id_produto</th>\n",
       "    </tr>\n",
       "  </thead>\n",
       "  <tbody>\n",
       "    <tr>\n",
       "      <th>0</th>\n",
       "      <td>14</td>\n",
       "      <td>19</td>\n",
       "    </tr>\n",
       "    <tr>\n",
       "      <th>1</th>\n",
       "      <td>2</td>\n",
       "      <td>30</td>\n",
       "    </tr>\n",
       "    <tr>\n",
       "      <th>2</th>\n",
       "      <td>11</td>\n",
       "      <td>90</td>\n",
       "    </tr>\n",
       "    <tr>\n",
       "      <th>3</th>\n",
       "      <td>8</td>\n",
       "      <td>18</td>\n",
       "    </tr>\n",
       "    <tr>\n",
       "      <th>4</th>\n",
       "      <td>19</td>\n",
       "      <td>39</td>\n",
       "    </tr>\n",
       "  </tbody>\n",
       "</table>\n",
       "</div>"
      ],
      "text/plain": [
       "   id_cliente  id_produto\n",
       "0          14          19\n",
       "1           2          30\n",
       "2          11          90\n",
       "3           8          18\n",
       "4          19          39"
      ]
     },
     "execution_count": 15,
     "metadata": {},
     "output_type": "execute_result"
    }
   ],
   "source": [
    "compras = pd.DataFrame([[\n",
    "    random.randint(0, N_CLIENTES - 1),\n",
    "    random.randint(0, N_PRODUTOS - 1)\n",
    "] for _ in range(N_COMPRAS)], columns=['id_cliente', 'id_produto'])\n",
    "compras.head()"
   ]
  },
  {
   "cell_type": "code",
   "execution_count": 16,
   "metadata": {
    "ExecuteTime": {
     "end_time": "2022-01-06T17:26:16.133564Z",
     "start_time": "2022-01-06T17:26:16.078546Z"
    }
   },
   "outputs": [
    {
     "data": {
      "text/html": [
       "<div>\n",
       "<style scoped>\n",
       "    .dataframe tbody tr th:only-of-type {\n",
       "        vertical-align: middle;\n",
       "    }\n",
       "\n",
       "    .dataframe tbody tr th {\n",
       "        vertical-align: top;\n",
       "    }\n",
       "\n",
       "    .dataframe thead th {\n",
       "        text-align: right;\n",
       "    }\n",
       "</style>\n",
       "<table border=\"1\" class=\"dataframe\">\n",
       "  <thead>\n",
       "    <tr style=\"text-align: right;\">\n",
       "      <th></th>\n",
       "      <th>id_cliente</th>\n",
       "      <th>id_produto</th>\n",
       "    </tr>\n",
       "    <tr>\n",
       "      <th>id</th>\n",
       "      <th></th>\n",
       "      <th></th>\n",
       "    </tr>\n",
       "  </thead>\n",
       "  <tbody>\n",
       "    <tr>\n",
       "      <th>0</th>\n",
       "      <td>14</td>\n",
       "      <td>19</td>\n",
       "    </tr>\n",
       "    <tr>\n",
       "      <th>1</th>\n",
       "      <td>2</td>\n",
       "      <td>30</td>\n",
       "    </tr>\n",
       "    <tr>\n",
       "      <th>2</th>\n",
       "      <td>11</td>\n",
       "      <td>90</td>\n",
       "    </tr>\n",
       "    <tr>\n",
       "      <th>3</th>\n",
       "      <td>8</td>\n",
       "      <td>18</td>\n",
       "    </tr>\n",
       "    <tr>\n",
       "      <th>4</th>\n",
       "      <td>19</td>\n",
       "      <td>39</td>\n",
       "    </tr>\n",
       "  </tbody>\n",
       "</table>\n",
       "</div>"
      ],
      "text/plain": [
       "    id_cliente  id_produto\n",
       "id                        \n",
       "0           14          19\n",
       "1            2          30\n",
       "2           11          90\n",
       "3            8          18\n",
       "4           19          39"
      ]
     },
     "execution_count": 16,
     "metadata": {},
     "output_type": "execute_result"
    }
   ],
   "source": [
    "compras.to_sql('compras', db, index_label='id', if_exists='replace')\n",
    "pd.read_sql(\"SELECT * FROM compras;\", db, 'id').head()"
   ]
  },
  {
   "cell_type": "code",
   "execution_count": 17,
   "metadata": {
    "ExecuteTime": {
     "end_time": "2022-01-06T17:26:18.107481Z",
     "start_time": "2022-01-06T17:26:18.103805Z"
    }
   },
   "outputs": [],
   "source": [
    "del compras, clientes, produtos"
   ]
  },
  {
   "cell_type": "markdown",
   "metadata": {},
   "source": [
    "# Select\n",
    "\n",
    "Ao fazer uma extração num banco de dados SQL, independentemente do \n",
    "DBMS (se é Oracle, SQLite, MySQL/MariaDB e etc.), você sempre vai utilizar a \n",
    "palava `SELECT` seguida pelo que você quer trazer, e por fim a palavra FROM\n",
    "informando de onde você irá coletar esses dados, por exemplo:"
   ]
  },
  {
   "cell_type": "code",
   "execution_count": 18,
   "metadata": {
    "ExecuteTime": {
     "end_time": "2022-01-06T17:26:20.141194Z",
     "start_time": "2022-01-06T17:26:20.132701Z"
    }
   },
   "outputs": [
    {
     "name": "stdout",
     "output_type": "stream",
     "text": [
      " * sqlite:///TesteSQL.db\n",
      "Done.\n"
     ]
    },
    {
     "data": {
      "text/html": [
       "<table>\n",
       "    <tr>\n",
       "        <th>nome</th>\n",
       "        <th>idade</th>\n",
       "    </tr>\n",
       "    <tr>\n",
       "        <td>Eduarda Gonçalves</td>\n",
       "        <td>39</td>\n",
       "    </tr>\n",
       "    <tr>\n",
       "        <td>Bruno da Rosa</td>\n",
       "        <td>33</td>\n",
       "    </tr>\n",
       "    <tr>\n",
       "        <td>Srta. Ana Beatriz Jesus</td>\n",
       "        <td>30</td>\n",
       "    </tr>\n",
       "    <tr>\n",
       "        <td>Emanuel das Neves</td>\n",
       "        <td>32</td>\n",
       "    </tr>\n",
       "    <tr>\n",
       "        <td>Srta. Amanda Moreira</td>\n",
       "        <td>45</td>\n",
       "    </tr>\n",
       "    <tr>\n",
       "        <td>Sr. Nicolas Cardoso</td>\n",
       "        <td>39</td>\n",
       "    </tr>\n",
       "    <tr>\n",
       "        <td>Alícia Araújo</td>\n",
       "        <td>22</td>\n",
       "    </tr>\n",
       "    <tr>\n",
       "        <td>Augusto Costa</td>\n",
       "        <td>35</td>\n",
       "    </tr>\n",
       "    <tr>\n",
       "        <td>Marcos Vinicius Novaes</td>\n",
       "        <td>58</td>\n",
       "    </tr>\n",
       "    <tr>\n",
       "        <td>Brenda Porto</td>\n",
       "        <td>44</td>\n",
       "    </tr>\n",
       "    <tr>\n",
       "        <td>Juliana Silveira</td>\n",
       "        <td>57</td>\n",
       "    </tr>\n",
       "    <tr>\n",
       "        <td>Benjamin Azevedo</td>\n",
       "        <td>43</td>\n",
       "    </tr>\n",
       "    <tr>\n",
       "        <td>Sra. Laura Pinto</td>\n",
       "        <td>43</td>\n",
       "    </tr>\n",
       "    <tr>\n",
       "        <td>Sr. Renan Castro</td>\n",
       "        <td>40</td>\n",
       "    </tr>\n",
       "    <tr>\n",
       "        <td>André da Cruz</td>\n",
       "        <td>33</td>\n",
       "    </tr>\n",
       "    <tr>\n",
       "        <td>Rafaela Fernandes</td>\n",
       "        <td>36</td>\n",
       "    </tr>\n",
       "    <tr>\n",
       "        <td>Enrico Gonçalves</td>\n",
       "        <td>48</td>\n",
       "    </tr>\n",
       "    <tr>\n",
       "        <td>João Miguel Lopes</td>\n",
       "        <td>35</td>\n",
       "    </tr>\n",
       "    <tr>\n",
       "        <td>Luigi Souza</td>\n",
       "        <td>21</td>\n",
       "    </tr>\n",
       "    <tr>\n",
       "        <td>Isis Ramos</td>\n",
       "        <td>23</td>\n",
       "    </tr>\n",
       "</table>"
      ],
      "text/plain": [
       "[('Eduarda Gonçalves', 39),\n",
       " ('Bruno da Rosa', 33),\n",
       " ('Srta. Ana Beatriz Jesus', 30),\n",
       " ('Emanuel das Neves', 32),\n",
       " ('Srta. Amanda Moreira', 45),\n",
       " ('Sr. Nicolas Cardoso', 39),\n",
       " ('Alícia Araújo', 22),\n",
       " ('Augusto Costa', 35),\n",
       " ('Marcos Vinicius Novaes', 58),\n",
       " ('Brenda Porto', 44),\n",
       " ('Juliana Silveira', 57),\n",
       " ('Benjamin Azevedo', 43),\n",
       " ('Sra. Laura Pinto', 43),\n",
       " ('Sr. Renan Castro', 40),\n",
       " ('André da Cruz', 33),\n",
       " ('Rafaela Fernandes', 36),\n",
       " ('Enrico Gonçalves', 48),\n",
       " ('João Miguel Lopes', 35),\n",
       " ('Luigi Souza', 21),\n",
       " ('Isis Ramos', 23)]"
      ]
     },
     "execution_count": 18,
     "metadata": {},
     "output_type": "execute_result"
    }
   ],
   "source": [
    "%%sql\n",
    "\n",
    "SELECT nome, idade FROM clientes"
   ]
  },
  {
   "cell_type": "markdown",
   "metadata": {},
   "source": [
    "Nesse caso, eu estou trazendo o nome e idade de todos os clientes da base."
   ]
  },
  {
   "cell_type": "markdown",
   "metadata": {},
   "source": [
    "# Limit\n",
    "\n",
    "Geralmente não queremos trazer todos os dados de uma vez, muitas vezes os dados\n",
    "que guardamos nas tabelas do banco de dados iriam facilmente estourar a  memória\n",
    "dos nossos servidores, para limitar a pesquisa, existem vários métodos, o mais \n",
    "simples que tem é o `LIMIT n`, onde você informa quantos registros você quer ver\n",
    "no máximo."
   ]
  },
  {
   "cell_type": "code",
   "execution_count": 19,
   "metadata": {
    "ExecuteTime": {
     "end_time": "2022-01-06T17:26:25.453811Z",
     "start_time": "2022-01-06T17:26:25.444311Z"
    }
   },
   "outputs": [
    {
     "name": "stdout",
     "output_type": "stream",
     "text": [
      " * sqlite:///TesteSQL.db\n",
      "Done.\n"
     ]
    },
    {
     "data": {
      "text/html": [
       "<table>\n",
       "    <tr>\n",
       "        <th>id</th>\n",
       "        <th>nome</th>\n",
       "        <th>email</th>\n",
       "        <th>idade</th>\n",
       "    </tr>\n",
       "    <tr>\n",
       "        <td>0</td>\n",
       "        <td>Eduarda Gonçalves</td>\n",
       "        <td>lbarros@bol.com.br</td>\n",
       "        <td>39</td>\n",
       "    </tr>\n",
       "    <tr>\n",
       "        <td>1</td>\n",
       "        <td>Bruno da Rosa</td>\n",
       "        <td>ocardoso@yahoo.com.br</td>\n",
       "        <td>33</td>\n",
       "    </tr>\n",
       "    <tr>\n",
       "        <td>2</td>\n",
       "        <td>Srta. Ana Beatriz Jesus</td>\n",
       "        <td>gustavo-henrique55@yahoo.com.br</td>\n",
       "        <td>30</td>\n",
       "    </tr>\n",
       "    <tr>\n",
       "        <td>3</td>\n",
       "        <td>Emanuel das Neves</td>\n",
       "        <td>cardosoraquel@hotmail.com</td>\n",
       "        <td>32</td>\n",
       "    </tr>\n",
       "    <tr>\n",
       "        <td>4</td>\n",
       "        <td>Srta. Amanda Moreira</td>\n",
       "        <td>ana-liviacastro@ig.com.br</td>\n",
       "        <td>45</td>\n",
       "    </tr>\n",
       "</table>"
      ],
      "text/plain": [
       "[(0, 'Eduarda Gonçalves', 'lbarros@bol.com.br', 39),\n",
       " (1, 'Bruno da Rosa', 'ocardoso@yahoo.com.br', 33),\n",
       " (2, 'Srta. Ana Beatriz Jesus', 'gustavo-henrique55@yahoo.com.br', 30),\n",
       " (3, 'Emanuel das Neves', 'cardosoraquel@hotmail.com', 32),\n",
       " (4, 'Srta. Amanda Moreira', 'ana-liviacastro@ig.com.br', 45)]"
      ]
     },
     "execution_count": 19,
     "metadata": {},
     "output_type": "execute_result"
    }
   ],
   "source": [
    "%%sql\n",
    "\n",
    "SELECT * FROM clientes LIMIT 5"
   ]
  },
  {
   "cell_type": "markdown",
   "metadata": {},
   "source": [
    "Nesse caso, eu trouxe 5 registros da tabela cliente.\n",
    "\n",
    "<span style=\"color:red\"><b>Em uma aplicação, sempre use o</span></b> `LIMIT` \n",
    "<span style=\"color:red\"><b>com um</span></b> `ORDER BY` \n",
    "<span style=\"color:red\"><b>quer será explicado mais a frente"
   ]
  },
  {
   "cell_type": "markdown",
   "metadata": {},
   "source": [
    "## Exercício 01\n",
    "\n",
    "Traga 10 produtos e seu respectivo preço"
   ]
  },
  {
   "cell_type": "code",
   "execution_count": 20,
   "metadata": {},
   "outputs": [
    {
     "name": "stdout",
     "output_type": "stream",
     "text": [
      " * sqlite:///TesteSQL.db\n",
      "Done.\n"
     ]
    },
    {
     "data": {
      "text/html": [
       "<table>\n",
       "    <tr>\n",
       "        <th>id</th>\n",
       "        <th>produto</th>\n",
       "        <th>preço</th>\n",
       "    </tr>\n",
       "    <tr>\n",
       "        <td>0</td>\n",
       "        <td>prod 00</td>\n",
       "        <td>4.49</td>\n",
       "    </tr>\n",
       "    <tr>\n",
       "        <td>1</td>\n",
       "        <td>prod 01</td>\n",
       "        <td>8.88</td>\n",
       "    </tr>\n",
       "    <tr>\n",
       "        <td>2</td>\n",
       "        <td>prod 02</td>\n",
       "        <td>0.68</td>\n",
       "    </tr>\n",
       "    <tr>\n",
       "        <td>3</td>\n",
       "        <td>prod 03</td>\n",
       "        <td>9.55</td>\n",
       "    </tr>\n",
       "    <tr>\n",
       "        <td>4</td>\n",
       "        <td>prod 04</td>\n",
       "        <td>7.93</td>\n",
       "    </tr>\n",
       "    <tr>\n",
       "        <td>5</td>\n",
       "        <td>prod 05</td>\n",
       "        <td>1.37</td>\n",
       "    </tr>\n",
       "    <tr>\n",
       "        <td>6</td>\n",
       "        <td>prod 06</td>\n",
       "        <td>5.04</td>\n",
       "    </tr>\n",
       "    <tr>\n",
       "        <td>7</td>\n",
       "        <td>prod 07</td>\n",
       "        <td>2.06</td>\n",
       "    </tr>\n",
       "    <tr>\n",
       "        <td>8</td>\n",
       "        <td>prod 08</td>\n",
       "        <td>1.89</td>\n",
       "    </tr>\n",
       "    <tr>\n",
       "        <td>9</td>\n",
       "        <td>prod 09</td>\n",
       "        <td>3.08</td>\n",
       "    </tr>\n",
       "</table>"
      ],
      "text/plain": [
       "[(0, 'prod 00', 4.49),\n",
       " (1, 'prod 01', 8.88),\n",
       " (2, 'prod 02', 0.68),\n",
       " (3, 'prod 03', 9.55),\n",
       " (4, 'prod 04', 7.93),\n",
       " (5, 'prod 05', 1.37),\n",
       " (6, 'prod 06', 5.04),\n",
       " (7, 'prod 07', 2.06),\n",
       " (8, 'prod 08', 1.89),\n",
       " (9, 'prod 09', 3.08)]"
      ]
     },
     "execution_count": 20,
     "metadata": {},
     "output_type": "execute_result"
    }
   ],
   "source": [
    "%%sql\n",
    "\n",
    "SELECT * FROM produtos LIMIT 10"
   ]
  },
  {
   "cell_type": "markdown",
   "metadata": {},
   "source": [
    "# Projeção\n",
    "\n",
    "Também posso operar sobre os valores retornados, por exemplo, se ao invés da idade\n",
    "da pessoa, eu quiser saber somente a faixa etária dela, posso fazer algum cálculo\n",
    "no select e assim trazer esse dado já trabalhado do próprio banco de dados. "
   ]
  },
  {
   "cell_type": "code",
   "execution_count": 21,
   "metadata": {
    "ExecuteTime": {
     "end_time": "2022-01-06T17:26:39.933827Z",
     "start_time": "2022-01-06T17:26:39.922826Z"
    }
   },
   "outputs": [
    {
     "name": "stdout",
     "output_type": "stream",
     "text": [
      " * sqlite:///TesteSQL.db\n",
      "Done.\n"
     ]
    },
    {
     "data": {
      "text/html": [
       "<table>\n",
       "    <tr>\n",
       "        <th>nome</th>\n",
       "        <th>FAIXA_ETARIA</th>\n",
       "    </tr>\n",
       "    <tr>\n",
       "        <td>Eduarda Gonçalves</td>\n",
       "        <td>30.0</td>\n",
       "    </tr>\n",
       "    <tr>\n",
       "        <td>Bruno da Rosa</td>\n",
       "        <td>30.0</td>\n",
       "    </tr>\n",
       "    <tr>\n",
       "        <td>Srta. Ana Beatriz Jesus</td>\n",
       "        <td>30.0</td>\n",
       "    </tr>\n",
       "    <tr>\n",
       "        <td>Emanuel das Neves</td>\n",
       "        <td>30.0</td>\n",
       "    </tr>\n",
       "    <tr>\n",
       "        <td>Srta. Amanda Moreira</td>\n",
       "        <td>40.0</td>\n",
       "    </tr>\n",
       "    <tr>\n",
       "        <td>Sr. Nicolas Cardoso</td>\n",
       "        <td>30.0</td>\n",
       "    </tr>\n",
       "    <tr>\n",
       "        <td>Alícia Araújo</td>\n",
       "        <td>20.0</td>\n",
       "    </tr>\n",
       "    <tr>\n",
       "        <td>Augusto Costa</td>\n",
       "        <td>30.0</td>\n",
       "    </tr>\n",
       "    <tr>\n",
       "        <td>Marcos Vinicius Novaes</td>\n",
       "        <td>50.0</td>\n",
       "    </tr>\n",
       "    <tr>\n",
       "        <td>Brenda Porto</td>\n",
       "        <td>40.0</td>\n",
       "    </tr>\n",
       "    <tr>\n",
       "        <td>Juliana Silveira</td>\n",
       "        <td>50.0</td>\n",
       "    </tr>\n",
       "    <tr>\n",
       "        <td>Benjamin Azevedo</td>\n",
       "        <td>40.0</td>\n",
       "    </tr>\n",
       "    <tr>\n",
       "        <td>Sra. Laura Pinto</td>\n",
       "        <td>40.0</td>\n",
       "    </tr>\n",
       "    <tr>\n",
       "        <td>Sr. Renan Castro</td>\n",
       "        <td>40.0</td>\n",
       "    </tr>\n",
       "    <tr>\n",
       "        <td>André da Cruz</td>\n",
       "        <td>30.0</td>\n",
       "    </tr>\n",
       "    <tr>\n",
       "        <td>Rafaela Fernandes</td>\n",
       "        <td>30.0</td>\n",
       "    </tr>\n",
       "    <tr>\n",
       "        <td>Enrico Gonçalves</td>\n",
       "        <td>40.0</td>\n",
       "    </tr>\n",
       "    <tr>\n",
       "        <td>João Miguel Lopes</td>\n",
       "        <td>30.0</td>\n",
       "    </tr>\n",
       "    <tr>\n",
       "        <td>Luigi Souza</td>\n",
       "        <td>20.0</td>\n",
       "    </tr>\n",
       "    <tr>\n",
       "        <td>Isis Ramos</td>\n",
       "        <td>20.0</td>\n",
       "    </tr>\n",
       "</table>"
      ],
      "text/plain": [
       "[('Eduarda Gonçalves', 30.0),\n",
       " ('Bruno da Rosa', 30.0),\n",
       " ('Srta. Ana Beatriz Jesus', 30.0),\n",
       " ('Emanuel das Neves', 30.0),\n",
       " ('Srta. Amanda Moreira', 40.0),\n",
       " ('Sr. Nicolas Cardoso', 30.0),\n",
       " ('Alícia Araújo', 20.0),\n",
       " ('Augusto Costa', 30.0),\n",
       " ('Marcos Vinicius Novaes', 50.0),\n",
       " ('Brenda Porto', 40.0),\n",
       " ('Juliana Silveira', 50.0),\n",
       " ('Benjamin Azevedo', 40.0),\n",
       " ('Sra. Laura Pinto', 40.0),\n",
       " ('Sr. Renan Castro', 40.0),\n",
       " ('André da Cruz', 30.0),\n",
       " ('Rafaela Fernandes', 30.0),\n",
       " ('Enrico Gonçalves', 40.0),\n",
       " ('João Miguel Lopes', 30.0),\n",
       " ('Luigi Souza', 20.0),\n",
       " ('Isis Ramos', 20.0)]"
      ]
     },
     "execution_count": 21,
     "metadata": {},
     "output_type": "execute_result"
    }
   ],
   "source": [
    "%%sql\n",
    "\n",
    "SELECT NOME, ROUND(idade / 10) * 10 AS FAIXA_ETARIA\n",
    "FROM clientes"
   ]
  },
  {
   "cell_type": "markdown",
   "metadata": {},
   "source": [
    "Essa ação de selecionar um dado trabalhado, recebe vários nomes, como mapeamento\n",
    "ou projeção.\n",
    "\n",
    "## Exercício 2\n",
    "\n",
    "Traga 10 produtos e seu preço convertido para dólar, considere a cotação do dólar\n",
    "com sendo US\\\\$1,00=R\\\\$5,20"
   ]
  },
  {
   "cell_type": "code",
   "execution_count": 22,
   "metadata": {},
   "outputs": [
    {
     "name": "stdout",
     "output_type": "stream",
     "text": [
      " * sqlite:///TesteSQL.db\n",
      "Done.\n"
     ]
    },
    {
     "data": {
      "text/html": [
       "<table>\n",
       "    <tr>\n",
       "        <th>produto</th>\n",
       "        <th>preço_convertido</th>\n",
       "    </tr>\n",
       "    <tr>\n",
       "        <td>prod 00</td>\n",
       "        <td>0.8634615384615385</td>\n",
       "    </tr>\n",
       "    <tr>\n",
       "        <td>prod 01</td>\n",
       "        <td>1.7076923076923078</td>\n",
       "    </tr>\n",
       "    <tr>\n",
       "        <td>prod 02</td>\n",
       "        <td>0.13076923076923078</td>\n",
       "    </tr>\n",
       "    <tr>\n",
       "        <td>prod 03</td>\n",
       "        <td>1.8365384615384617</td>\n",
       "    </tr>\n",
       "    <tr>\n",
       "        <td>prod 04</td>\n",
       "        <td>1.525</td>\n",
       "    </tr>\n",
       "    <tr>\n",
       "        <td>prod 05</td>\n",
       "        <td>0.26346153846153847</td>\n",
       "    </tr>\n",
       "    <tr>\n",
       "        <td>prod 06</td>\n",
       "        <td>0.9692307692307692</td>\n",
       "    </tr>\n",
       "    <tr>\n",
       "        <td>prod 07</td>\n",
       "        <td>0.39615384615384613</td>\n",
       "    </tr>\n",
       "    <tr>\n",
       "        <td>prod 08</td>\n",
       "        <td>0.36346153846153845</td>\n",
       "    </tr>\n",
       "    <tr>\n",
       "        <td>prod 09</td>\n",
       "        <td>0.5923076923076923</td>\n",
       "    </tr>\n",
       "</table>"
      ],
      "text/plain": [
       "[('prod 00', 0.8634615384615385),\n",
       " ('prod 01', 1.7076923076923078),\n",
       " ('prod 02', 0.13076923076923078),\n",
       " ('prod 03', 1.8365384615384617),\n",
       " ('prod 04', 1.525),\n",
       " ('prod 05', 0.26346153846153847),\n",
       " ('prod 06', 0.9692307692307692),\n",
       " ('prod 07', 0.39615384615384613),\n",
       " ('prod 08', 0.36346153846153845),\n",
       " ('prod 09', 0.5923076923076923)]"
      ]
     },
     "execution_count": 22,
     "metadata": {},
     "output_type": "execute_result"
    }
   ],
   "source": [
    "%%sql\n",
    "\n",
    "SELECT produto, (preço/5.20)  AS preço_convertido\n",
    "FROM produtos LIMIT 10"
   ]
  },
  {
   "cell_type": "markdown",
   "metadata": {},
   "source": [
    "# Where\n",
    "\n",
    "O `LIMIT` como dito anteriormente é a forma mais simples de reduzir a quantidade\n",
    "de dados trazidos em uma pesquisa, mas a forma mais comum de se usar é o `WHERE`.\n",
    "\n",
    "Geralmente quando fazemos uma consulta no banco de dados, não precisamos de todos\n",
    "os dados da tabela, somente dados que respeitem algum requisito, como por exemplo,\n",
    "no nosso caso, se a gente quiser saber quais clientes temos com menos de 30 anos:"
   ]
  },
  {
   "cell_type": "code",
   "execution_count": 23,
   "metadata": {
    "ExecuteTime": {
     "end_time": "2022-01-06T17:26:47.084933Z",
     "start_time": "2022-01-06T17:26:47.076438Z"
    }
   },
   "outputs": [
    {
     "name": "stdout",
     "output_type": "stream",
     "text": [
      " * sqlite:///TesteSQL.db\n",
      "Done.\n"
     ]
    },
    {
     "data": {
      "text/html": [
       "<table>\n",
       "    <tr>\n",
       "        <th>nome</th>\n",
       "        <th>idade</th>\n",
       "    </tr>\n",
       "    <tr>\n",
       "        <td>Alícia Araújo</td>\n",
       "        <td>22</td>\n",
       "    </tr>\n",
       "    <tr>\n",
       "        <td>Luigi Souza</td>\n",
       "        <td>21</td>\n",
       "    </tr>\n",
       "    <tr>\n",
       "        <td>Isis Ramos</td>\n",
       "        <td>23</td>\n",
       "    </tr>\n",
       "</table>"
      ],
      "text/plain": [
       "[('Alícia Araújo', 22), ('Luigi Souza', 21), ('Isis Ramos', 23)]"
      ]
     },
     "execution_count": 23,
     "metadata": {},
     "output_type": "execute_result"
    }
   ],
   "source": [
    "%%sql\n",
    "\n",
    "SELECT nome, idade FROM clientes WHERE idade < 30"
   ]
  },
  {
   "cell_type": "markdown",
   "metadata": {},
   "source": [
    "## Exercício 3\n",
    "\n",
    "Traga todos os produtos que custem menos do que 1 real"
   ]
  },
  {
   "cell_type": "code",
   "execution_count": 24,
   "metadata": {},
   "outputs": [
    {
     "name": "stdout",
     "output_type": "stream",
     "text": [
      " * sqlite:///TesteSQL.db\n",
      "Done.\n"
     ]
    },
    {
     "data": {
      "text/html": [
       "<table>\n",
       "    <tr>\n",
       "        <th>produto</th>\n",
       "        <th>preço</th>\n",
       "    </tr>\n",
       "    <tr>\n",
       "        <td>prod 02</td>\n",
       "        <td>0.68</td>\n",
       "    </tr>\n",
       "    <tr>\n",
       "        <td>prod 16</td>\n",
       "        <td>0.6</td>\n",
       "    </tr>\n",
       "    <tr>\n",
       "        <td>prod 28</td>\n",
       "        <td>0.01</td>\n",
       "    </tr>\n",
       "    <tr>\n",
       "        <td>prod 47</td>\n",
       "        <td>0.15</td>\n",
       "    </tr>\n",
       "    <tr>\n",
       "        <td>prod 51</td>\n",
       "        <td>0.24</td>\n",
       "    </tr>\n",
       "    <tr>\n",
       "        <td>prod 59</td>\n",
       "        <td>0.88</td>\n",
       "    </tr>\n",
       "    <tr>\n",
       "        <td>prod 65</td>\n",
       "        <td>0.98</td>\n",
       "    </tr>\n",
       "    <tr>\n",
       "        <td>prod 72</td>\n",
       "        <td>0.55</td>\n",
       "    </tr>\n",
       "    <tr>\n",
       "        <td>prod 73</td>\n",
       "        <td>0.52</td>\n",
       "    </tr>\n",
       "    <tr>\n",
       "        <td>prod 80</td>\n",
       "        <td>0.69</td>\n",
       "    </tr>\n",
       "    <tr>\n",
       "        <td>prod 82</td>\n",
       "        <td>0.75</td>\n",
       "    </tr>\n",
       "    <tr>\n",
       "        <td>prod 89</td>\n",
       "        <td>0.41</td>\n",
       "    </tr>\n",
       "</table>"
      ],
      "text/plain": [
       "[('prod 02', 0.68),\n",
       " ('prod 16', 0.6),\n",
       " ('prod 28', 0.01),\n",
       " ('prod 47', 0.15),\n",
       " ('prod 51', 0.24),\n",
       " ('prod 59', 0.88),\n",
       " ('prod 65', 0.98),\n",
       " ('prod 72', 0.55),\n",
       " ('prod 73', 0.52),\n",
       " ('prod 80', 0.69),\n",
       " ('prod 82', 0.75),\n",
       " ('prod 89', 0.41)]"
      ]
     },
     "execution_count": 24,
     "metadata": {},
     "output_type": "execute_result"
    }
   ],
   "source": [
    "%%sql\n",
    "\n",
    "SELECT produto, preço FROM produtos WHERE preço<1"
   ]
  },
  {
   "cell_type": "markdown",
   "metadata": {},
   "source": [
    "# Join\n",
    "\n",
    "Uma das principais características dos bancos relacionais é justamente a sua capacidade\n",
    "de ter relacionamento entre os dados.\n",
    "\n",
    "Geralmente esse relacionamento é feito utilizando chaves primárias (PK). Geralmente\n",
    "as PKs são representadas por um número inteiro chamado ID, mas não necessariamente,\n",
    "por exemplo, um cadastro de pessoas pode ter como PK o CPF da pessoa, o que importa\n",
    "é que não haja repetição de valores.\n",
    "\n",
    "As PKs também podem ter mais de uma coluna, por exemplo, um supermercado pode ter\n",
    "como PK um produto e a marca dele.\n",
    "\n",
    "Mas por hora iremos abstrair essas PKs menos ortodoxas e focar nas padrões que é só\n",
    "uma coluna ID.\n",
    "\n",
    "As PKs geralmente são utilizadas para formar relacionamento entre as tabelas, ou seja,\n",
    "a partir do momento que eu cadastrei um cliente no meu sistema, e gerei um ID para ele\n",
    "toda as interações dele serão registradas utilizando o seu ID e não mais dados\n",
    "pessoais.\n",
    "\n",
    "No nosso caso, registramos as compras utilizando o ID do cliente e do produto, como\n",
    "podemos ver abaixo"
   ]
  },
  {
   "cell_type": "code",
   "execution_count": 25,
   "metadata": {
    "ExecuteTime": {
     "end_time": "2022-01-06T17:26:50.625464Z",
     "start_time": "2022-01-06T17:26:50.615984Z"
    }
   },
   "outputs": [
    {
     "name": "stdout",
     "output_type": "stream",
     "text": [
      " * sqlite:///TesteSQL.db\n",
      "Done.\n"
     ]
    },
    {
     "data": {
      "text/html": [
       "<table>\n",
       "    <tr>\n",
       "        <th>id</th>\n",
       "        <th>nome</th>\n",
       "        <th>email</th>\n",
       "        <th>idade</th>\n",
       "        <th>id_1</th>\n",
       "        <th>produto</th>\n",
       "        <th>preço</th>\n",
       "    </tr>\n",
       "    <tr>\n",
       "        <td>14</td>\n",
       "        <td>André da Cruz</td>\n",
       "        <td>vmendes@yahoo.com.br</td>\n",
       "        <td>33</td>\n",
       "        <td>19</td>\n",
       "        <td>prod 19</td>\n",
       "        <td>5.44</td>\n",
       "    </tr>\n",
       "    <tr>\n",
       "        <td>2</td>\n",
       "        <td>Srta. Ana Beatriz Jesus</td>\n",
       "        <td>gustavo-henrique55@yahoo.com.br</td>\n",
       "        <td>30</td>\n",
       "        <td>30</td>\n",
       "        <td>prod 30</td>\n",
       "        <td>8.28</td>\n",
       "    </tr>\n",
       "    <tr>\n",
       "        <td>11</td>\n",
       "        <td>Benjamin Azevedo</td>\n",
       "        <td>catarina08@ig.com.br</td>\n",
       "        <td>43</td>\n",
       "        <td>90</td>\n",
       "        <td>prod 90</td>\n",
       "        <td>3.96</td>\n",
       "    </tr>\n",
       "    <tr>\n",
       "        <td>8</td>\n",
       "        <td>Marcos Vinicius Novaes</td>\n",
       "        <td>augusto45@yahoo.com.br</td>\n",
       "        <td>58</td>\n",
       "        <td>18</td>\n",
       "        <td>prod 18</td>\n",
       "        <td>9.46</td>\n",
       "    </tr>\n",
       "    <tr>\n",
       "        <td>19</td>\n",
       "        <td>Isis Ramos</td>\n",
       "        <td>carvalhovitor-hugo@yahoo.com.br</td>\n",
       "        <td>23</td>\n",
       "        <td>39</td>\n",
       "        <td>prod 39</td>\n",
       "        <td>1.49</td>\n",
       "    </tr>\n",
       "</table>"
      ],
      "text/plain": [
       "[(14, 'André da Cruz', 'vmendes@yahoo.com.br', 33, 19, 'prod 19', 5.44),\n",
       " (2, 'Srta. Ana Beatriz Jesus', 'gustavo-henrique55@yahoo.com.br', 30, 30, 'prod 30', 8.28),\n",
       " (11, 'Benjamin Azevedo', 'catarina08@ig.com.br', 43, 90, 'prod 90', 3.96),\n",
       " (8, 'Marcos Vinicius Novaes', 'augusto45@yahoo.com.br', 58, 18, 'prod 18', 9.46),\n",
       " (19, 'Isis Ramos', 'carvalhovitor-hugo@yahoo.com.br', 23, 39, 'prod 39', 1.49)]"
      ]
     },
     "execution_count": 25,
     "metadata": {},
     "output_type": "execute_result"
    }
   ],
   "source": [
    "%%sql\n",
    "\n",
    "SELECT cl.*, po.*\n",
    "FROM clientes cl\n",
    "JOIN compras AS co\n",
    "ON co.ID_CLIENTE = cl.ID\n",
    "JOIN produtos as po\n",
    "ON co.ID_PRODUTO = po.ID\n",
    "LIMIT 5"
   ]
  },
  {
   "cell_type": "markdown",
   "metadata": {},
   "source": [
    "A tabela de compras traz consigo o ID do cliente que fez a compra e o ID do produto\n",
    "comprado, ocupando assim muito menos espaço do que se eu tivesse uma tabela com\n",
    "todos os dados.\n",
    "\n",
    "> NOTA: Quando nas colunas selecionadas faço algo do tipo alias.* eu estou trazendo todas as colunas daquela tabel\n",
    "\n",
    "> NOTA: Em 99% dos casos, independetemente do intuito do SELECT, o relacionamento entre as tabelas vai utilizar as mesmas colunas que usou em SELECTs anteriores\n",
    "\n",
    "## Exercício 4\n",
    "\n",
    "Traga 10 compras do produto `prod 02`"
   ]
  },
  {
   "cell_type": "code",
   "execution_count": 26,
   "metadata": {},
   "outputs": [
    {
     "name": "stdout",
     "output_type": "stream",
     "text": [
      " * sqlite:///TesteSQL.db\n",
      "Done.\n"
     ]
    },
    {
     "data": {
      "text/html": [
       "<table>\n",
       "    <tr>\n",
       "        <th>id</th>\n",
       "        <th>nome</th>\n",
       "        <th>email</th>\n",
       "        <th>idade</th>\n",
       "        <th>id_1</th>\n",
       "        <th>produto</th>\n",
       "        <th>preço</th>\n",
       "    </tr>\n",
       "    <tr>\n",
       "        <td>4</td>\n",
       "        <td>Srta. Amanda Moreira</td>\n",
       "        <td>ana-liviacastro@ig.com.br</td>\n",
       "        <td>45</td>\n",
       "        <td>2</td>\n",
       "        <td>prod 02</td>\n",
       "        <td>0.68</td>\n",
       "    </tr>\n",
       "    <tr>\n",
       "        <td>11</td>\n",
       "        <td>Benjamin Azevedo</td>\n",
       "        <td>catarina08@ig.com.br</td>\n",
       "        <td>43</td>\n",
       "        <td>2</td>\n",
       "        <td>prod 02</td>\n",
       "        <td>0.68</td>\n",
       "    </tr>\n",
       "</table>"
      ],
      "text/plain": [
       "[(4, 'Srta. Amanda Moreira', 'ana-liviacastro@ig.com.br', 45, 2, 'prod 02', 0.68),\n",
       " (11, 'Benjamin Azevedo', 'catarina08@ig.com.br', 43, 2, 'prod 02', 0.68)]"
      ]
     },
     "execution_count": 26,
     "metadata": {},
     "output_type": "execute_result"
    }
   ],
   "source": [
    "%%sql\n",
    "\n",
    "SELECT cl.*, po.*\n",
    "FROM clientes cl \n",
    "JOIN compras AS co\n",
    "ON co.ID_CLIENTE = cl.ID\n",
    "JOIN produtos as po\n",
    "ON co.ID_PRODUTO = po.ID\n",
    "WHERE produto = 'prod 02'\n",
    "LIMIT 10"
   ]
  },
  {
   "cell_type": "markdown",
   "metadata": {},
   "source": [
    "# Distinct\n",
    "\n",
    "Muitas vezes as nossas consultas nos trazem resultados repetidos, quando a repetição\n",
    "não nos importa, por exemplo, mesmo na nossa base tendo 20 clientes, não necessariamente\n",
    "todos efetuaram compras, se eu quiser saber todos que o fizeram posso fazer:"
   ]
  },
  {
   "cell_type": "code",
   "execution_count": 27,
   "metadata": {
    "ExecuteTime": {
     "end_time": "2022-01-06T17:26:53.410205Z",
     "start_time": "2022-01-06T17:26:53.398714Z"
    }
   },
   "outputs": [
    {
     "name": "stdout",
     "output_type": "stream",
     "text": [
      " * sqlite:///TesteSQL.db\n",
      "Done.\n"
     ]
    },
    {
     "data": {
      "text/html": [
       "<table>\n",
       "    <tr>\n",
       "        <th>nome</th>\n",
       "    </tr>\n",
       "    <tr>\n",
       "        <td>André da Cruz</td>\n",
       "    </tr>\n",
       "    <tr>\n",
       "        <td>Srta. Ana Beatriz Jesus</td>\n",
       "    </tr>\n",
       "    <tr>\n",
       "        <td>Benjamin Azevedo</td>\n",
       "    </tr>\n",
       "    <tr>\n",
       "        <td>Marcos Vinicius Novaes</td>\n",
       "    </tr>\n",
       "    <tr>\n",
       "        <td>Isis Ramos</td>\n",
       "    </tr>\n",
       "    <tr>\n",
       "        <td>Rafaela Fernandes</td>\n",
       "    </tr>\n",
       "    <tr>\n",
       "        <td>Alícia Araújo</td>\n",
       "    </tr>\n",
       "    <tr>\n",
       "        <td>Sr. Nicolas Cardoso</td>\n",
       "    </tr>\n",
       "    <tr>\n",
       "        <td>João Miguel Lopes</td>\n",
       "    </tr>\n",
       "    <tr>\n",
       "        <td>Sra. Laura Pinto</td>\n",
       "    </tr>\n",
       "    <tr>\n",
       "        <td>Luigi Souza</td>\n",
       "    </tr>\n",
       "    <tr>\n",
       "        <td>Srta. Amanda Moreira</td>\n",
       "    </tr>\n",
       "    <tr>\n",
       "        <td>Enrico Gonçalves</td>\n",
       "    </tr>\n",
       "    <tr>\n",
       "        <td>Emanuel das Neves</td>\n",
       "    </tr>\n",
       "    <tr>\n",
       "        <td>Bruno da Rosa</td>\n",
       "    </tr>\n",
       "    <tr>\n",
       "        <td>Juliana Silveira</td>\n",
       "    </tr>\n",
       "    <tr>\n",
       "        <td>Sr. Renan Castro</td>\n",
       "    </tr>\n",
       "    <tr>\n",
       "        <td>Eduarda Gonçalves</td>\n",
       "    </tr>\n",
       "    <tr>\n",
       "        <td>Augusto Costa</td>\n",
       "    </tr>\n",
       "    <tr>\n",
       "        <td>Brenda Porto</td>\n",
       "    </tr>\n",
       "</table>"
      ],
      "text/plain": [
       "[('André da Cruz',),\n",
       " ('Srta. Ana Beatriz Jesus',),\n",
       " ('Benjamin Azevedo',),\n",
       " ('Marcos Vinicius Novaes',),\n",
       " ('Isis Ramos',),\n",
       " ('Rafaela Fernandes',),\n",
       " ('Alícia Araújo',),\n",
       " ('Sr. Nicolas Cardoso',),\n",
       " ('João Miguel Lopes',),\n",
       " ('Sra. Laura Pinto',),\n",
       " ('Luigi Souza',),\n",
       " ('Srta. Amanda Moreira',),\n",
       " ('Enrico Gonçalves',),\n",
       " ('Emanuel das Neves',),\n",
       " ('Bruno da Rosa',),\n",
       " ('Juliana Silveira',),\n",
       " ('Sr. Renan Castro',),\n",
       " ('Eduarda Gonçalves',),\n",
       " ('Augusto Costa',),\n",
       " ('Brenda Porto',)]"
      ]
     },
     "execution_count": 27,
     "metadata": {},
     "output_type": "execute_result"
    }
   ],
   "source": [
    "%%sql\n",
    "\n",
    "SELECT DISTINCT cl.nome\n",
    "FROM clientes cl\n",
    "JOIN compras AS co\n",
    "ON co.ID_CLIENTE = cl.ID"
   ]
  },
  {
   "cell_type": "markdown",
   "metadata": {},
   "source": [
    "Como podemos ver, apesar de eu ter feito {{N_COMPRAS}} compras, o meu resultado\n",
    "não traz essa quantidade de linhas, traz exatamente a quantidade de clientes \n",
    "que fizeram compras.\n",
    "\n",
    "## Exercício 5\n",
    "\n",
    "Liste todos clientes que compraram o produto `prod 02`"
   ]
  },
  {
   "cell_type": "code",
   "execution_count": 28,
   "metadata": {},
   "outputs": [
    {
     "name": "stdout",
     "output_type": "stream",
     "text": [
      " * sqlite:///TesteSQL.db\n",
      "Done.\n"
     ]
    },
    {
     "data": {
      "text/html": [
       "<table>\n",
       "    <tr>\n",
       "        <th>nome</th>\n",
       "    </tr>\n",
       "    <tr>\n",
       "        <td>Srta. Amanda Moreira</td>\n",
       "    </tr>\n",
       "    <tr>\n",
       "        <td>Benjamin Azevedo</td>\n",
       "    </tr>\n",
       "</table>"
      ],
      "text/plain": [
       "[('Srta. Amanda Moreira',), ('Benjamin Azevedo',)]"
      ]
     },
     "execution_count": 28,
     "metadata": {},
     "output_type": "execute_result"
    }
   ],
   "source": [
    "%%sql\n",
    "\n",
    "SELECT DISTINCT cl.nome\n",
    "FROM clientes cl \n",
    "JOIN compras AS co\n",
    "ON co.ID_CLIENTE = cl.ID\n",
    "JOIN produtos as po\n",
    "ON co.ID_PRODUTO = po.ID\n",
    "WHERE produto = 'prod 02'\n"
   ]
  },
  {
   "cell_type": "markdown",
   "metadata": {},
   "source": [
    "# Redução\n",
    "\n",
    "No SQL também são comuns funções de redução, elas percorrem todas as linhas de uma\n",
    "determinada coluna aplicando uma função de redução (somatório, contagem e etc.)\n",
    "e retornam somente uma linha ao invés de todas as linhas lidas por ela, por exemplo\n",
    "se eu quiser saber quantas compras do `prod 02` foram feitas, posso fazer:"
   ]
  },
  {
   "cell_type": "code",
   "execution_count": 29,
   "metadata": {
    "ExecuteTime": {
     "end_time": "2022-01-06T17:26:56.761090Z",
     "start_time": "2022-01-06T17:26:56.753089Z"
    }
   },
   "outputs": [
    {
     "name": "stdout",
     "output_type": "stream",
     "text": [
      " * sqlite:///TesteSQL.db\n",
      "Done.\n"
     ]
    },
    {
     "data": {
      "text/html": [
       "<table>\n",
       "    <tr>\n",
       "        <th>count(*)</th>\n",
       "    </tr>\n",
       "    <tr>\n",
       "        <td>2</td>\n",
       "    </tr>\n",
       "</table>"
      ],
      "text/plain": [
       "[(2,)]"
      ]
     },
     "execution_count": 29,
     "metadata": {},
     "output_type": "execute_result"
    }
   ],
   "source": [
    "%%sql\n",
    "\n",
    "SELECT count(*)\n",
    "FROM compras AS co\n",
    "JOIN produtos as po\n",
    "ON co.ID_PRODUTO = po.ID\n",
    "WHERE po.produto = 'prod 02'"
   ]
  },
  {
   "cell_type": "markdown",
   "metadata": {},
   "source": [
    "Existem outras funções como SUM, AVG e etc., você pode sempre consultar a \n",
    "[documentação oficial](https://www.sqlite.org/lang_aggfunc.html) para ver \n",
    "todas elas\n",
    "\n",
    "## Exercício 6\n",
    "\n",
    "Qual foi a receita total?"
   ]
  },
  {
   "cell_type": "code",
   "execution_count": 30,
   "metadata": {},
   "outputs": [
    {
     "name": "stdout",
     "output_type": "stream",
     "text": [
      " * sqlite:///TesteSQL.db\n",
      "Done.\n"
     ]
    },
    {
     "data": {
      "text/html": [
       "<table>\n",
       "    <tr>\n",
       "        <th>receita_total</th>\n",
       "    </tr>\n",
       "    <tr>\n",
       "        <td>2474.0</td>\n",
       "    </tr>\n",
       "</table>"
      ],
      "text/plain": [
       "[(2474.0,)]"
      ]
     },
     "execution_count": 30,
     "metadata": {},
     "output_type": "execute_result"
    }
   ],
   "source": [
    "%%sql\n",
    "\n",
    "SELECT round(sum(po.preço)) AS receita_total\n",
    "FROM compras AS co\n",
    "JOIN produtos as po\n",
    "ON co.ID_PRODUTO = po.ID"
   ]
  },
  {
   "cell_type": "markdown",
   "metadata": {},
   "source": [
    "# Group by\n",
    "\n",
    "As funções de agregação ficam ainda mais fortes quando agrupamos valores.\n",
    "Isto é, elas mostram todo o seu potencial quando criamos pequenos grupos de dados,\n",
    "ao invés de contarmos por exemplo todas as vendas do dia, podemos aplicar contagem\n",
    "produto a produto com somente uma query, como mostrado abaixo:"
   ]
  },
  {
   "cell_type": "code",
   "execution_count": 31,
   "metadata": {
    "ExecuteTime": {
     "end_time": "2022-01-06T17:27:01.076622Z",
     "start_time": "2022-01-06T17:27:01.068127Z"
    }
   },
   "outputs": [
    {
     "name": "stdout",
     "output_type": "stream",
     "text": [
      " * sqlite:///TesteSQL.db\n",
      "Done.\n"
     ]
    },
    {
     "data": {
      "text/html": [
       "<table>\n",
       "    <tr>\n",
       "        <th>produto</th>\n",
       "        <th>count(*)</th>\n",
       "    </tr>\n",
       "    <tr>\n",
       "        <td>prod 00</td>\n",
       "        <td>6</td>\n",
       "    </tr>\n",
       "    <tr>\n",
       "        <td>prod 01</td>\n",
       "        <td>2</td>\n",
       "    </tr>\n",
       "    <tr>\n",
       "        <td>prod 02</td>\n",
       "        <td>2</td>\n",
       "    </tr>\n",
       "    <tr>\n",
       "        <td>prod 03</td>\n",
       "        <td>3</td>\n",
       "    </tr>\n",
       "    <tr>\n",
       "        <td>prod 04</td>\n",
       "        <td>7</td>\n",
       "    </tr>\n",
       "    <tr>\n",
       "        <td>prod 05</td>\n",
       "        <td>8</td>\n",
       "    </tr>\n",
       "    <tr>\n",
       "        <td>prod 06</td>\n",
       "        <td>2</td>\n",
       "    </tr>\n",
       "    <tr>\n",
       "        <td>prod 07</td>\n",
       "        <td>6</td>\n",
       "    </tr>\n",
       "    <tr>\n",
       "        <td>prod 08</td>\n",
       "        <td>1</td>\n",
       "    </tr>\n",
       "    <tr>\n",
       "        <td>prod 09</td>\n",
       "        <td>2</td>\n",
       "    </tr>\n",
       "</table>"
      ],
      "text/plain": [
       "[('prod 00', 6),\n",
       " ('prod 01', 2),\n",
       " ('prod 02', 2),\n",
       " ('prod 03', 3),\n",
       " ('prod 04', 7),\n",
       " ('prod 05', 8),\n",
       " ('prod 06', 2),\n",
       " ('prod 07', 6),\n",
       " ('prod 08', 1),\n",
       " ('prod 09', 2)]"
      ]
     },
     "execution_count": 31,
     "metadata": {},
     "output_type": "execute_result"
    }
   ],
   "source": [
    "%%sql\n",
    "\n",
    "SELECT po.produto, count(*)\n",
    "FROM compras AS co\n",
    "JOIN produtos as po\n",
    "ON co.ID_PRODUTO = po.ID\n",
    "group by po.produto\n",
    "limit 10"
   ]
  },
  {
   "cell_type": "markdown",
   "metadata": {},
   "source": [
    "Dessa forma, consigo fazer uma contagem diferente para cada produto, sem precisar\n",
    "fazer diversas querys, algo muito útil.\n",
    "\n",
    "## Exercício 7\n",
    "\n",
    "Quanto cada cliente gastou?"
   ]
  },
  {
   "cell_type": "code",
   "execution_count": 32,
   "metadata": {},
   "outputs": [
    {
     "name": "stdout",
     "output_type": "stream",
     "text": [
      " * sqlite:///TesteSQL.db\n",
      "Done.\n"
     ]
    },
    {
     "data": {
      "text/html": [
       "<table>\n",
       "    <tr>\n",
       "        <th>nome</th>\n",
       "        <th>gasto</th>\n",
       "    </tr>\n",
       "    <tr>\n",
       "        <td>Alícia Araújo</td>\n",
       "        <td>131.0</td>\n",
       "    </tr>\n",
       "    <tr>\n",
       "        <td>André da Cruz</td>\n",
       "        <td>108.0</td>\n",
       "    </tr>\n",
       "    <tr>\n",
       "        <td>Augusto Costa</td>\n",
       "        <td>79.0</td>\n",
       "    </tr>\n",
       "    <tr>\n",
       "        <td>Benjamin Azevedo</td>\n",
       "        <td>173.0</td>\n",
       "    </tr>\n",
       "    <tr>\n",
       "        <td>Brenda Porto</td>\n",
       "        <td>80.0</td>\n",
       "    </tr>\n",
       "    <tr>\n",
       "        <td>Bruno da Rosa</td>\n",
       "        <td>106.0</td>\n",
       "    </tr>\n",
       "    <tr>\n",
       "        <td>Eduarda Gonçalves</td>\n",
       "        <td>126.0</td>\n",
       "    </tr>\n",
       "    <tr>\n",
       "        <td>Emanuel das Neves</td>\n",
       "        <td>151.0</td>\n",
       "    </tr>\n",
       "    <tr>\n",
       "        <td>Enrico Gonçalves</td>\n",
       "        <td>101.0</td>\n",
       "    </tr>\n",
       "    <tr>\n",
       "        <td>Isis Ramos</td>\n",
       "        <td>154.0</td>\n",
       "    </tr>\n",
       "    <tr>\n",
       "        <td>João Miguel Lopes</td>\n",
       "        <td>112.0</td>\n",
       "    </tr>\n",
       "    <tr>\n",
       "        <td>Juliana Silveira</td>\n",
       "        <td>158.0</td>\n",
       "    </tr>\n",
       "    <tr>\n",
       "        <td>Luigi Souza</td>\n",
       "        <td>131.0</td>\n",
       "    </tr>\n",
       "    <tr>\n",
       "        <td>Marcos Vinicius Novaes</td>\n",
       "        <td>119.0</td>\n",
       "    </tr>\n",
       "    <tr>\n",
       "        <td>Rafaela Fernandes</td>\n",
       "        <td>130.0</td>\n",
       "    </tr>\n",
       "    <tr>\n",
       "        <td>Sr. Nicolas Cardoso</td>\n",
       "        <td>99.0</td>\n",
       "    </tr>\n",
       "    <tr>\n",
       "        <td>Sr. Renan Castro</td>\n",
       "        <td>151.0</td>\n",
       "    </tr>\n",
       "    <tr>\n",
       "        <td>Sra. Laura Pinto</td>\n",
       "        <td>104.0</td>\n",
       "    </tr>\n",
       "    <tr>\n",
       "        <td>Srta. Amanda Moreira</td>\n",
       "        <td>149.0</td>\n",
       "    </tr>\n",
       "    <tr>\n",
       "        <td>Srta. Ana Beatriz Jesus</td>\n",
       "        <td>111.0</td>\n",
       "    </tr>\n",
       "</table>"
      ],
      "text/plain": [
       "[('Alícia Araújo', 131.0),\n",
       " ('André da Cruz', 108.0),\n",
       " ('Augusto Costa', 79.0),\n",
       " ('Benjamin Azevedo', 173.0),\n",
       " ('Brenda Porto', 80.0),\n",
       " ('Bruno da Rosa', 106.0),\n",
       " ('Eduarda Gonçalves', 126.0),\n",
       " ('Emanuel das Neves', 151.0),\n",
       " ('Enrico Gonçalves', 101.0),\n",
       " ('Isis Ramos', 154.0),\n",
       " ('João Miguel Lopes', 112.0),\n",
       " ('Juliana Silveira', 158.0),\n",
       " ('Luigi Souza', 131.0),\n",
       " ('Marcos Vinicius Novaes', 119.0),\n",
       " ('Rafaela Fernandes', 130.0),\n",
       " ('Sr. Nicolas Cardoso', 99.0),\n",
       " ('Sr. Renan Castro', 151.0),\n",
       " ('Sra. Laura Pinto', 104.0),\n",
       " ('Srta. Amanda Moreira', 149.0),\n",
       " ('Srta. Ana Beatriz Jesus', 111.0)]"
      ]
     },
     "execution_count": 32,
     "metadata": {},
     "output_type": "execute_result"
    }
   ],
   "source": [
    "%%sql\n",
    "\n",
    "SELECT cl.nome, round(sum(po.preço)) as gasto\n",
    "FROM clientes cl \n",
    "JOIN compras AS co\n",
    "ON co.ID_CLIENTE = cl.ID\n",
    "JOIN produtos as po\n",
    "ON co.ID_PRODUTO = po.ID\n",
    "group by cl.nome\n"
   ]
  },
  {
   "cell_type": "markdown",
   "metadata": {},
   "source": [
    "# Order by\n",
    "\n",
    "Muitas vezes queremos os dados em ordem específicas, por exemplo, ao visitar uma\n",
    "loja online, você não espera ver produtos caros e desinteressantes sendo exibidos\n",
    "para você aleatoriamente, você espera ver em uma ordem lógica, sejam os mais\n",
    "baratos primeiros, os mais relevantes para o seu perfil, ou até alfabéticamente.\n",
    "\n",
    "\n",
    "Tudo isso pode ser feito utilizando o comando `ORDER BY`, mas misturado com\n",
    "outras operações como o `LIMIT` ele pode fazer coisas ainda melhores, como\n",
    "por exemplo, trazer os 10 produtos mais caros:"
   ]
  },
  {
   "cell_type": "code",
   "execution_count": 33,
   "metadata": {
    "ExecuteTime": {
     "end_time": "2022-01-06T17:27:08.840515Z",
     "start_time": "2022-01-06T17:27:08.833015Z"
    }
   },
   "outputs": [
    {
     "name": "stdout",
     "output_type": "stream",
     "text": [
      " * sqlite:///TesteSQL.db\n",
      "Done.\n"
     ]
    },
    {
     "data": {
      "text/html": [
       "<table>\n",
       "    <tr>\n",
       "        <th>produto</th>\n",
       "        <th>preço</th>\n",
       "    </tr>\n",
       "    <tr>\n",
       "        <td>prod 45</td>\n",
       "        <td>9.74</td>\n",
       "    </tr>\n",
       "    <tr>\n",
       "        <td>prod 27</td>\n",
       "        <td>9.68</td>\n",
       "    </tr>\n",
       "    <tr>\n",
       "        <td>prod 24</td>\n",
       "        <td>9.57</td>\n",
       "    </tr>\n",
       "    <tr>\n",
       "        <td>prod 91</td>\n",
       "        <td>9.56</td>\n",
       "    </tr>\n",
       "    <tr>\n",
       "        <td>prod 03</td>\n",
       "        <td>9.55</td>\n",
       "    </tr>\n",
       "    <tr>\n",
       "        <td>prod 99</td>\n",
       "        <td>9.55</td>\n",
       "    </tr>\n",
       "    <tr>\n",
       "        <td>prod 18</td>\n",
       "        <td>9.46</td>\n",
       "    </tr>\n",
       "    <tr>\n",
       "        <td>prod 23</td>\n",
       "        <td>9.44</td>\n",
       "    </tr>\n",
       "    <tr>\n",
       "        <td>prod 34</td>\n",
       "        <td>9.37</td>\n",
       "    </tr>\n",
       "    <tr>\n",
       "        <td>prod 38</td>\n",
       "        <td>9.3</td>\n",
       "    </tr>\n",
       "</table>"
      ],
      "text/plain": [
       "[('prod 45', 9.74),\n",
       " ('prod 27', 9.68),\n",
       " ('prod 24', 9.57),\n",
       " ('prod 91', 9.56),\n",
       " ('prod 03', 9.55),\n",
       " ('prod 99', 9.55),\n",
       " ('prod 18', 9.46),\n",
       " ('prod 23', 9.44),\n",
       " ('prod 34', 9.37),\n",
       " ('prod 38', 9.3)]"
      ]
     },
     "execution_count": 33,
     "metadata": {},
     "output_type": "execute_result"
    }
   ],
   "source": [
    "%%sql\n",
    "\n",
    "SELECT produto, preço\n",
    "FROM produtos\n",
    "ORDER BY preço DESC\n",
    "LIMIT 10"
   ]
  },
  {
   "cell_type": "markdown",
   "metadata": {},
   "source": [
    "Com isso podemos ver o poder do `ORDER BY` + `LIMIT` para trazer os N primeiros\n",
    "registros de uma determinada métrica\n",
    "\n",
    "## Exercício 8\n",
    "\n",
    "Traga os 10 clientes que mais gastaram"
   ]
  },
  {
   "cell_type": "code",
   "execution_count": 34,
   "metadata": {},
   "outputs": [
    {
     "name": "stdout",
     "output_type": "stream",
     "text": [
      " * sqlite:///TesteSQL.db\n",
      "Done.\n"
     ]
    },
    {
     "data": {
      "text/html": [
       "<table>\n",
       "    <tr>\n",
       "        <th>nome</th>\n",
       "    </tr>\n",
       "    <tr>\n",
       "        <td>Augusto Costa</td>\n",
       "    </tr>\n",
       "    <tr>\n",
       "        <td>Brenda Porto</td>\n",
       "    </tr>\n",
       "    <tr>\n",
       "        <td>Sr. Nicolas Cardoso</td>\n",
       "    </tr>\n",
       "    <tr>\n",
       "        <td>Enrico Gonçalves</td>\n",
       "    </tr>\n",
       "    <tr>\n",
       "        <td>Sra. Laura Pinto</td>\n",
       "    </tr>\n",
       "    <tr>\n",
       "        <td>Bruno da Rosa</td>\n",
       "    </tr>\n",
       "    <tr>\n",
       "        <td>André da Cruz</td>\n",
       "    </tr>\n",
       "    <tr>\n",
       "        <td>Srta. Ana Beatriz Jesus</td>\n",
       "    </tr>\n",
       "    <tr>\n",
       "        <td>João Miguel Lopes</td>\n",
       "    </tr>\n",
       "    <tr>\n",
       "        <td>Marcos Vinicius Novaes</td>\n",
       "    </tr>\n",
       "</table>"
      ],
      "text/plain": [
       "[('Augusto Costa',),\n",
       " ('Brenda Porto',),\n",
       " ('Sr. Nicolas Cardoso',),\n",
       " ('Enrico Gonçalves',),\n",
       " ('Sra. Laura Pinto',),\n",
       " ('Bruno da Rosa',),\n",
       " ('André da Cruz',),\n",
       " ('Srta. Ana Beatriz Jesus',),\n",
       " ('João Miguel Lopes',),\n",
       " ('Marcos Vinicius Novaes',)]"
      ]
     },
     "execution_count": 34,
     "metadata": {},
     "output_type": "execute_result"
    }
   ],
   "source": [
    "%%sql\n",
    "\n",
    "SELECT cl.nome\n",
    "FROM clientes cl \n",
    "JOIN compras AS co\n",
    "ON co.ID_CLIENTE = cl.ID\n",
    "JOIN produtos as po\n",
    "ON co.ID_PRODUTO = po.ID\n",
    "group by cl.nome\n",
    "order by sum(po.preço)\n",
    "LIMIT 10"
   ]
  },
  {
   "cell_type": "markdown",
   "metadata": {},
   "source": [
    "O order by junto do limit é extremamente importante para fazer paginação de dados,\n",
    "por exemplo, novamente ao acessar o site de compras, os produtos não são todos\n",
    "exibidos de uma vez para você, do contrário, a memória do seu computador iria\n",
    "para o espaço, para evitar isso, tem aqueles botões na parte de baixo para ver\n",
    "a próxima página, e com isso, você pode avançar e recuar.\n",
    "\n",
    "Digamos que um cliente viu os 10 produtos mais caros e não se interessou por\n",
    "nenhum e quer ver a próxima página, ele pode fazer:"
   ]
  },
  {
   "cell_type": "code",
   "execution_count": 35,
   "metadata": {
    "ExecuteTime": {
     "end_time": "2022-01-06T17:27:11.930768Z",
     "start_time": "2022-01-06T17:27:11.922766Z"
    }
   },
   "outputs": [
    {
     "name": "stdout",
     "output_type": "stream",
     "text": [
      " * sqlite:///TesteSQL.db\n",
      "Done.\n"
     ]
    },
    {
     "data": {
      "text/html": [
       "<table>\n",
       "    <tr>\n",
       "        <th>produto</th>\n",
       "        <th>preço</th>\n",
       "    </tr>\n",
       "    <tr>\n",
       "        <td>prod 20</td>\n",
       "        <td>9.01</td>\n",
       "    </tr>\n",
       "    <tr>\n",
       "        <td>prod 01</td>\n",
       "        <td>8.88</td>\n",
       "    </tr>\n",
       "    <tr>\n",
       "        <td>prod 67</td>\n",
       "        <td>8.88</td>\n",
       "    </tr>\n",
       "    <tr>\n",
       "        <td>prod 62</td>\n",
       "        <td>8.56</td>\n",
       "    </tr>\n",
       "    <tr>\n",
       "        <td>prod 63</td>\n",
       "        <td>8.42</td>\n",
       "    </tr>\n",
       "    <tr>\n",
       "        <td>prod 30</td>\n",
       "        <td>8.28</td>\n",
       "    </tr>\n",
       "    <tr>\n",
       "        <td>prod 64</td>\n",
       "        <td>8.27</td>\n",
       "    </tr>\n",
       "    <tr>\n",
       "        <td>prod 53</td>\n",
       "        <td>8.09</td>\n",
       "    </tr>\n",
       "    <tr>\n",
       "        <td>prod 04</td>\n",
       "        <td>7.93</td>\n",
       "    </tr>\n",
       "    <tr>\n",
       "        <td>prod 79</td>\n",
       "        <td>7.86</td>\n",
       "    </tr>\n",
       "</table>"
      ],
      "text/plain": [
       "[('prod 20', 9.01),\n",
       " ('prod 01', 8.88),\n",
       " ('prod 67', 8.88),\n",
       " ('prod 62', 8.56),\n",
       " ('prod 63', 8.42),\n",
       " ('prod 30', 8.28),\n",
       " ('prod 64', 8.27),\n",
       " ('prod 53', 8.09),\n",
       " ('prod 04', 7.93),\n",
       " ('prod 79', 7.86)]"
      ]
     },
     "execution_count": 35,
     "metadata": {},
     "output_type": "execute_result"
    }
   ],
   "source": [
    "%%sql\n",
    "\n",
    "SELECT produto, preço\n",
    "FROM produtos\n",
    "ORDER BY preço DESC\n",
    "LIMIT 10,10"
   ]
  },
  {
   "cell_type": "markdown",
   "metadata": {},
   "source": [
    "O primeiro 10, representa de onde começa e o segundo quantos registros vai trazer.\n",
    "Você pode mexer nos valores acima e testar a vontade para ver como muda.\n",
    "\n",
    "## Exercício 9\n",
    "\n",
    "Traga o 11º cliente que mais gastou"
   ]
  },
  {
   "cell_type": "code",
   "execution_count": 36,
   "metadata": {},
   "outputs": [
    {
     "name": "stdout",
     "output_type": "stream",
     "text": [
      " * sqlite:///TesteSQL.db\n",
      "Done.\n"
     ]
    },
    {
     "data": {
      "text/html": [
       "<table>\n",
       "    <tr>\n",
       "        <th>nome</th>\n",
       "    </tr>\n",
       "    <tr>\n",
       "        <td>Eduarda Gonçalves</td>\n",
       "    </tr>\n",
       "</table>"
      ],
      "text/plain": [
       "[('Eduarda Gonçalves',)]"
      ]
     },
     "execution_count": 36,
     "metadata": {},
     "output_type": "execute_result"
    }
   ],
   "source": [
    "%%sql\n",
    "\n",
    "SELECT cl.nome\n",
    "FROM clientes cl \n",
    "JOIN compras AS co\n",
    "ON co.ID_CLIENTE = cl.ID\n",
    "JOIN produtos as po\n",
    "ON co.ID_PRODUTO = po.ID\n",
    "group by cl.nome\n",
    "order by sum(po.preço)\n",
    "LIMIT 10,01"
   ]
  },
  {
   "cell_type": "markdown",
   "metadata": {},
   "source": [
    "# Funções janeladas\n",
    "\n",
    "As funções janeladas ou funções analíticas como também são conhecidas, são funções\n",
    "que se aplicam a todas a coluna trazendo métricas como qual posição essa pessoa está\n",
    "entre as que mais gastaram, ou quantas pessoas no mínimo foram necessárias para \n",
    "alcançar até 25% da receita total."
   ]
  },
  {
   "cell_type": "code",
   "execution_count": 37,
   "metadata": {
    "ExecuteTime": {
     "end_time": "2022-01-06T17:27:19.555015Z",
     "start_time": "2022-01-06T17:27:19.545026Z"
    }
   },
   "outputs": [
    {
     "name": "stdout",
     "output_type": "stream",
     "text": [
      " * sqlite:///TesteSQL.db\n",
      "Done.\n"
     ]
    },
    {
     "data": {
      "text/html": [
       "<table>\n",
       "    <tr>\n",
       "        <th>produto</th>\n",
       "        <th>preço</th>\n",
       "        <th>posição</th>\n",
       "    </tr>\n",
       "    <tr>\n",
       "        <td>prod 45</td>\n",
       "        <td>9.74</td>\n",
       "        <td>1</td>\n",
       "    </tr>\n",
       "    <tr>\n",
       "        <td>prod 27</td>\n",
       "        <td>9.68</td>\n",
       "        <td>2</td>\n",
       "    </tr>\n",
       "    <tr>\n",
       "        <td>prod 24</td>\n",
       "        <td>9.57</td>\n",
       "        <td>3</td>\n",
       "    </tr>\n",
       "    <tr>\n",
       "        <td>prod 91</td>\n",
       "        <td>9.56</td>\n",
       "        <td>4</td>\n",
       "    </tr>\n",
       "    <tr>\n",
       "        <td>prod 03</td>\n",
       "        <td>9.55</td>\n",
       "        <td>5</td>\n",
       "    </tr>\n",
       "    <tr>\n",
       "        <td>prod 99</td>\n",
       "        <td>9.55</td>\n",
       "        <td>5</td>\n",
       "    </tr>\n",
       "    <tr>\n",
       "        <td>prod 18</td>\n",
       "        <td>9.46</td>\n",
       "        <td>7</td>\n",
       "    </tr>\n",
       "    <tr>\n",
       "        <td>prod 23</td>\n",
       "        <td>9.44</td>\n",
       "        <td>8</td>\n",
       "    </tr>\n",
       "    <tr>\n",
       "        <td>prod 34</td>\n",
       "        <td>9.37</td>\n",
       "        <td>9</td>\n",
       "    </tr>\n",
       "    <tr>\n",
       "        <td>prod 38</td>\n",
       "        <td>9.3</td>\n",
       "        <td>10</td>\n",
       "    </tr>\n",
       "</table>"
      ],
      "text/plain": [
       "[('prod 45', 9.74, 1),\n",
       " ('prod 27', 9.68, 2),\n",
       " ('prod 24', 9.57, 3),\n",
       " ('prod 91', 9.56, 4),\n",
       " ('prod 03', 9.55, 5),\n",
       " ('prod 99', 9.55, 5),\n",
       " ('prod 18', 9.46, 7),\n",
       " ('prod 23', 9.44, 8),\n",
       " ('prod 34', 9.37, 9),\n",
       " ('prod 38', 9.3, 10)]"
      ]
     },
     "execution_count": 37,
     "metadata": {},
     "output_type": "execute_result"
    }
   ],
   "source": [
    "%%sql\n",
    "\n",
    "SELECT produto, preço, rank() over (order by preço desc) as posição\n",
    "FROM produtos\n",
    "order by posição\n",
    "limit 10"
   ]
  },
  {
   "cell_type": "markdown",
   "metadata": {},
   "source": [
    "Você pode usar as funções janeladas quando lhe for conveniente, mas não serão\n",
    "obrigatórias em nenhum exercício"
   ]
  },
  {
   "cell_type": "markdown",
   "metadata": {},
   "source": [
    "## Exercício 10\n",
    "\n",
    "Qual foi o produto que menos vendeu?"
   ]
  },
  {
   "cell_type": "code",
   "execution_count": 38,
   "metadata": {},
   "outputs": [
    {
     "name": "stdout",
     "output_type": "stream",
     "text": [
      " * sqlite:///TesteSQL.db\n",
      "Done.\n"
     ]
    },
    {
     "data": {
      "text/html": [
       "<table>\n",
       "    <tr>\n",
       "        <th>produto</th>\n",
       "        <th>menos_vendido</th>\n",
       "    </tr>\n",
       "    <tr>\n",
       "        <td>prod 19</td>\n",
       "        <td>1</td>\n",
       "    </tr>\n",
       "</table>"
      ],
      "text/plain": [
       "[('prod 19', 1)]"
      ]
     },
     "execution_count": 38,
     "metadata": {},
     "output_type": "execute_result"
    }
   ],
   "source": [
    "%%sql\n",
    "SELECT produto, rank() over (order by sum(po.preço) desc ) as menos_vendido\n",
    "FROM clientes cl \n",
    "JOIN compras AS co\n",
    "ON co.ID_CLIENTE = cl.ID\n",
    "JOIN produtos as po\n",
    "ON co.ID_PRODUTO = po.ID"
   ]
  },
  {
   "cell_type": "markdown",
   "metadata": {},
   "source": [
    "# Operadores lógicos comuns\n",
    "\n",
    "Alguns operadores lógicos bem famosos são o `=`, `>`, `<`, `>=`, `<=`, `!=`,\n",
    "mas existem outros menos comuns, como o `LIKE` e `IN`.\n",
    "\n",
    "O primeiro, serve para fazer pesquisas simples dentro de texto, ele irá verificar\n",
    "caracter a caracter se a string informada bate com o padrão, de forma mais prática\n",
    "\n",
    "```SQL\n",
    "'abc' LIKE 'abc' -- Verdadeiro\n",
    "\n",
    "'abcd' LIKE 'abc' -- Falso\n",
    "\n",
    "'cbc' LIKE 'abc' -- Falso\n",
    "\n",
    "'dabc' LIKE 'abc' -- Falso\n",
    "```\n",
    "\n",
    "Até aí é exatamente igual ao operador `=`, mas quando adicionamos os wildcards\n",
    "`%` e `_` que o `LIKE` mostra o seu valor.\n",
    "\n",
    "O wildcard `_` pode ser usado para representar qualquer caracter, por exemplo:\n",
    "\n",
    "```SQL\n",
    "'abc' LIKE 'ab_' -- Verdadeiro\n",
    "'abd' LIKE 'ab_' -- Verdadeiro\n",
    "'ab0' LIKE 'ab_' -- Verdadeiro\n",
    "'ab ' LIKE 'ab_' -- Verdadeiro\n",
    "'abcd' LIKE 'ab_' -- Falso\n",
    "'cbc' LIKE 'ab_' -- Falso\n",
    "'ab' LIKE 'ab_' -- Falso\n",
    "'dabc' LIKE 'ab_' -- Falso\n",
    "```\n",
    "\n",
    "Já o wildcard `%` pode ser usado para representar qualquer sequência de caracteres,\n",
    "por exemplo:\n",
    "\n",
    "```SQL\n",
    "'abc' LIKE 'ab%' -- Verdadeiro\n",
    "'abd' LIKE 'ab%' -- Verdadeiro\n",
    "'ab0' LIKE 'ab%' -- Verdadeiro\n",
    "'ab ' LIKE 'ab%' -- Verdadeiro\n",
    "'abcd' LIKE 'ab%' -- Verdadeiro\n",
    "'cbc' LIKE 'ab%' -- Falso\n",
    "'ab' LIKE 'ab%' -- Verdadeiro\n",
    "'dabc' LIKE 'ab%' -- Falso\n",
    "```\n",
    "\n",
    "Usando o nosso exemplo, vamos pegar todos os clientes que tenham e-mail uol:"
   ]
  },
  {
   "cell_type": "code",
   "execution_count": 39,
   "metadata": {
    "ExecuteTime": {
     "end_time": "2022-01-06T17:27:23.557231Z",
     "start_time": "2022-01-06T17:27:23.545734Z"
    }
   },
   "outputs": [
    {
     "name": "stdout",
     "output_type": "stream",
     "text": [
      " * sqlite:///TesteSQL.db\n",
      "Done.\n"
     ]
    },
    {
     "data": {
      "text/html": [
       "<table>\n",
       "    <tr>\n",
       "        <th>id</th>\n",
       "        <th>nome</th>\n",
       "        <th>email</th>\n",
       "        <th>idade</th>\n",
       "    </tr>\n",
       "    <tr>\n",
       "        <td>13</td>\n",
       "        <td>Sr. Renan Castro</td>\n",
       "        <td>luiz-otavio73@uol.com.br</td>\n",
       "        <td>40</td>\n",
       "    </tr>\n",
       "    <tr>\n",
       "        <td>17</td>\n",
       "        <td>João Miguel Lopes</td>\n",
       "        <td>rdas-neves@uol.com.br</td>\n",
       "        <td>35</td>\n",
       "    </tr>\n",
       "</table>"
      ],
      "text/plain": [
       "[(13, 'Sr. Renan Castro', 'luiz-otavio73@uol.com.br', 40),\n",
       " (17, 'João Miguel Lopes', 'rdas-neves@uol.com.br', 35)]"
      ]
     },
     "execution_count": 39,
     "metadata": {},
     "output_type": "execute_result"
    }
   ],
   "source": [
    "%%sql\n",
    "\n",
    "SELECT *\n",
    "FROM CLIENTES\n",
    "WHERE EMAIL LIKE '%@uol.com.br'"
   ]
  },
  {
   "cell_type": "markdown",
   "metadata": {},
   "source": [
    "Já o operador `IN` serve para verificar se o valor está dentro de um cojunto, por exemplo\n",
    "\n",
    "```SQL\n",
    "1 in (1, 2, 3) -- Verdadeiro\n",
    "2 in (1, 2, 3) -- Verdadeiro\n",
    "3 in (1, 2, 3) -- Verdadeiro\n",
    "4 in (1, 2, 3) -- Falso\n",
    "(1, 2) in ((1, 2), (3, 4)) -- Verdadeiro\n",
    "(1, 3) in ((1, 2), (3, 4)) -- Falso\n",
    "```"
   ]
  },
  {
   "cell_type": "code",
   "execution_count": 40,
   "metadata": {
    "ExecuteTime": {
     "end_time": "2022-01-06T17:27:28.991337Z",
     "start_time": "2022-01-06T17:27:28.983825Z"
    }
   },
   "outputs": [
    {
     "name": "stdout",
     "output_type": "stream",
     "text": [
      " * sqlite:///TesteSQL.db\n",
      "Done.\n"
     ]
    },
    {
     "data": {
      "text/html": [
       "<table>\n",
       "    <tr>\n",
       "        <th>id</th>\n",
       "        <th>produto</th>\n",
       "        <th>preço</th>\n",
       "    </tr>\n",
       "    <tr>\n",
       "        <td>1</td>\n",
       "        <td>prod 01</td>\n",
       "        <td>8.88</td>\n",
       "    </tr>\n",
       "    <tr>\n",
       "        <td>20</td>\n",
       "        <td>prod 20</td>\n",
       "        <td>9.01</td>\n",
       "    </tr>\n",
       "</table>"
      ],
      "text/plain": [
       "[(1, 'prod 01', 8.88), (20, 'prod 20', 9.01)]"
      ]
     },
     "execution_count": 40,
     "metadata": {},
     "output_type": "execute_result"
    }
   ],
   "source": [
    "%%sql\n",
    "\n",
    "SELECT *\n",
    "FROM PRODUTOS\n",
    "WHERE PRODUTO IN ('prod 01', 'prod 20', 'batata')"
   ]
  },
  {
   "cell_type": "markdown",
   "metadata": {},
   "source": [
    "# Subquerys\n",
    "\n",
    "Subquerys são utilizadas para fazer extrações mais complexas, quando para \n",
    "alcançar um resultado, é necessário outro resultado, digamos, listar todos os\n",
    "produtos comprados pelo cliente que mais gastou, primeiro precisamos encotrar o \n",
    "cliente que mais gastou e depois os produtos que ele comprou.\n",
    "\n",
    "Podemos separar isso em duas querys:\n",
    "\n",
    "1. Selecionar o cliente que mais gastou\n",
    "2. Selecionar todos os produtos que um cliente comprou\n",
    "\n",
    "E elas ficariam como:"
   ]
  },
  {
   "cell_type": "code",
   "execution_count": 41,
   "metadata": {
    "ExecuteTime": {
     "end_time": "2022-01-06T17:27:31.906521Z",
     "start_time": "2022-01-06T17:27:31.897987Z"
    }
   },
   "outputs": [
    {
     "name": "stdout",
     "output_type": "stream",
     "text": [
      " * sqlite:///TesteSQL.db\n",
      "Done.\n"
     ]
    },
    {
     "data": {
      "text/html": [
       "<table>\n",
       "    <tr>\n",
       "        <th>id</th>\n",
       "        <th>nome</th>\n",
       "        <th>GASTO</th>\n",
       "    </tr>\n",
       "    <tr>\n",
       "        <td>11</td>\n",
       "        <td>Benjamin Azevedo</td>\n",
       "        <td>173.45000000000002</td>\n",
       "    </tr>\n",
       "</table>"
      ],
      "text/plain": [
       "[(11, 'Benjamin Azevedo', 173.45000000000002)]"
      ]
     },
     "execution_count": 41,
     "metadata": {},
     "output_type": "execute_result"
    }
   ],
   "source": [
    "%%sql\n",
    "\n",
    "-- Selecionando o cliente que mais gastou\n",
    "\n",
    "SELECT cl2.ID, cl2.nome, sum(po2.preço) AS GASTO\n",
    "FROM clientes cl2\n",
    "JOIN compras AS co2\n",
    "ON co2.ID_CLIENTE = cl2.ID\n",
    "JOIN produtos as po2\n",
    "ON co2.ID_PRODUTO = po2.ID\n",
    "group by cl2.nome, cl2.id\n",
    "ORDER BY gasto DESC\n",
    "LIMIT 1"
   ]
  },
  {
   "cell_type": "code",
   "execution_count": 42,
   "metadata": {
    "ExecuteTime": {
     "end_time": "2022-01-06T17:27:34.648732Z",
     "start_time": "2022-01-06T17:27:34.639732Z"
    }
   },
   "outputs": [
    {
     "name": "stdout",
     "output_type": "stream",
     "text": [
      " * sqlite:///TesteSQL.db\n",
      "Done.\n"
     ]
    },
    {
     "data": {
      "text/html": [
       "<table>\n",
       "    <tr>\n",
       "        <th>produto</th>\n",
       "    </tr>\n",
       "    <tr>\n",
       "        <td>prod 93</td>\n",
       "    </tr>\n",
       "    <tr>\n",
       "        <td>prod 52</td>\n",
       "    </tr>\n",
       "    <tr>\n",
       "        <td>prod 23</td>\n",
       "    </tr>\n",
       "    <tr>\n",
       "        <td>prod 43</td>\n",
       "    </tr>\n",
       "    <tr>\n",
       "        <td>prod 46</td>\n",
       "    </tr>\n",
       "    <tr>\n",
       "        <td>prod 77</td>\n",
       "    </tr>\n",
       "    <tr>\n",
       "        <td>prod 29</td>\n",
       "    </tr>\n",
       "    <tr>\n",
       "        <td>prod 45</td>\n",
       "    </tr>\n",
       "    <tr>\n",
       "        <td>prod 95</td>\n",
       "    </tr>\n",
       "    <tr>\n",
       "        <td>prod 53</td>\n",
       "    </tr>\n",
       "    <tr>\n",
       "        <td>prod 82</td>\n",
       "    </tr>\n",
       "    <tr>\n",
       "        <td>prod 79</td>\n",
       "    </tr>\n",
       "    <tr>\n",
       "        <td>prod 19</td>\n",
       "    </tr>\n",
       "    <tr>\n",
       "        <td>prod 86</td>\n",
       "    </tr>\n",
       "    <tr>\n",
       "        <td>prod 10</td>\n",
       "    </tr>\n",
       "    <tr>\n",
       "        <td>prod 81</td>\n",
       "    </tr>\n",
       "    <tr>\n",
       "        <td>prod 98</td>\n",
       "    </tr>\n",
       "    <tr>\n",
       "        <td>prod 90</td>\n",
       "    </tr>\n",
       "    <tr>\n",
       "        <td>prod 35</td>\n",
       "    </tr>\n",
       "    <tr>\n",
       "        <td>prod 60</td>\n",
       "    </tr>\n",
       "    <tr>\n",
       "        <td>prod 25</td>\n",
       "    </tr>\n",
       "    <tr>\n",
       "        <td>prod 16</td>\n",
       "    </tr>\n",
       "</table>"
      ],
      "text/plain": [
       "[('prod 93',),\n",
       " ('prod 52',),\n",
       " ('prod 23',),\n",
       " ('prod 43',),\n",
       " ('prod 46',),\n",
       " ('prod 77',),\n",
       " ('prod 29',),\n",
       " ('prod 45',),\n",
       " ('prod 95',),\n",
       " ('prod 53',),\n",
       " ('prod 82',),\n",
       " ('prod 79',),\n",
       " ('prod 19',),\n",
       " ('prod 86',),\n",
       " ('prod 10',),\n",
       " ('prod 81',),\n",
       " ('prod 98',),\n",
       " ('prod 90',),\n",
       " ('prod 35',),\n",
       " ('prod 60',),\n",
       " ('prod 25',),\n",
       " ('prod 16',)]"
      ]
     },
     "execution_count": 42,
     "metadata": {},
     "output_type": "execute_result"
    }
   ],
   "source": [
    "%%sql\n",
    "\n",
    "-- Selecionar todos os produtos que umm cliente comprou\n",
    "\n",
    "SELECT DISTINCT po.produto\n",
    "FROM produtos as po\n",
    "JOIN compras AS co\n",
    "ON co.ID_PRODUTO = po.ID\n",
    "WHERE co.ID_CLIENTE IN (5)"
   ]
  },
  {
   "cell_type": "code",
   "execution_count": 43,
   "metadata": {
    "ExecuteTime": {
     "end_time": "2022-01-06T17:27:37.602522Z",
     "start_time": "2022-01-06T17:27:37.591522Z"
    }
   },
   "outputs": [
    {
     "name": "stdout",
     "output_type": "stream",
     "text": [
      " * sqlite:///TesteSQL.db\n",
      "Done.\n"
     ]
    },
    {
     "data": {
      "text/html": [
       "<table>\n",
       "    <tr>\n",
       "        <th>produto</th>\n",
       "    </tr>\n",
       "    <tr>\n",
       "        <td>prod 90</td>\n",
       "    </tr>\n",
       "    <tr>\n",
       "        <td>prod 37</td>\n",
       "    </tr>\n",
       "    <tr>\n",
       "        <td>prod 88</td>\n",
       "    </tr>\n",
       "    <tr>\n",
       "        <td>prod 05</td>\n",
       "    </tr>\n",
       "    <tr>\n",
       "        <td>prod 30</td>\n",
       "    </tr>\n",
       "    <tr>\n",
       "        <td>prod 62</td>\n",
       "    </tr>\n",
       "    <tr>\n",
       "        <td>prod 48</td>\n",
       "    </tr>\n",
       "    <tr>\n",
       "        <td>prod 04</td>\n",
       "    </tr>\n",
       "    <tr>\n",
       "        <td>prod 10</td>\n",
       "    </tr>\n",
       "    <tr>\n",
       "        <td>prod 18</td>\n",
       "    </tr>\n",
       "    <tr>\n",
       "        <td>prod 67</td>\n",
       "    </tr>\n",
       "    <tr>\n",
       "        <td>prod 85</td>\n",
       "    </tr>\n",
       "    <tr>\n",
       "        <td>prod 57</td>\n",
       "    </tr>\n",
       "    <tr>\n",
       "        <td>prod 02</td>\n",
       "    </tr>\n",
       "    <tr>\n",
       "        <td>prod 63</td>\n",
       "    </tr>\n",
       "    <tr>\n",
       "        <td>prod 36</td>\n",
       "    </tr>\n",
       "    <tr>\n",
       "        <td>prod 46</td>\n",
       "    </tr>\n",
       "    <tr>\n",
       "        <td>prod 83</td>\n",
       "    </tr>\n",
       "    <tr>\n",
       "        <td>prod 34</td>\n",
       "    </tr>\n",
       "    <tr>\n",
       "        <td>prod 12</td>\n",
       "    </tr>\n",
       "    <tr>\n",
       "        <td>prod 33</td>\n",
       "    </tr>\n",
       "    <tr>\n",
       "        <td>prod 96</td>\n",
       "    </tr>\n",
       "    <tr>\n",
       "        <td>prod 74</td>\n",
       "    </tr>\n",
       "    <tr>\n",
       "        <td>prod 20</td>\n",
       "    </tr>\n",
       "    <tr>\n",
       "        <td>prod 14</td>\n",
       "    </tr>\n",
       "    <tr>\n",
       "        <td>prod 13</td>\n",
       "    </tr>\n",
       "    <tr>\n",
       "        <td>prod 71</td>\n",
       "    </tr>\n",
       "</table>"
      ],
      "text/plain": [
       "[('prod 90',),\n",
       " ('prod 37',),\n",
       " ('prod 88',),\n",
       " ('prod 05',),\n",
       " ('prod 30',),\n",
       " ('prod 62',),\n",
       " ('prod 48',),\n",
       " ('prod 04',),\n",
       " ('prod 10',),\n",
       " ('prod 18',),\n",
       " ('prod 67',),\n",
       " ('prod 85',),\n",
       " ('prod 57',),\n",
       " ('prod 02',),\n",
       " ('prod 63',),\n",
       " ('prod 36',),\n",
       " ('prod 46',),\n",
       " ('prod 83',),\n",
       " ('prod 34',),\n",
       " ('prod 12',),\n",
       " ('prod 33',),\n",
       " ('prod 96',),\n",
       " ('prod 74',),\n",
       " ('prod 20',),\n",
       " ('prod 14',),\n",
       " ('prod 13',),\n",
       " ('prod 71',)]"
      ]
     },
     "execution_count": 43,
     "metadata": {},
     "output_type": "execute_result"
    }
   ],
   "source": [
    "%%sql\n",
    "\n",
    "-- Juntando as duas:\n",
    "    \n",
    "SELECT DISTINCT po.produto\n",
    "FROM produtos as po\n",
    "JOIN compras AS co\n",
    "ON co.ID_PRODUTO = po.ID\n",
    "WHERE co.ID_CLIENTE IN (\n",
    "    SELECT cl2.ID\n",
    "    FROM clientes cl2\n",
    "    JOIN compras AS co2\n",
    "    ON co2.ID_CLIENTE = cl2.ID\n",
    "    JOIN produtos as po2\n",
    "    ON co2.ID_PRODUTO = po2.ID\n",
    "    group by cl2.nome, cl2.id\n",
    "    ORDER BY sum(po2.preço) DESC\n",
    "    LIMIT 1\n",
    ")"
   ]
  },
  {
   "cell_type": "markdown",
   "metadata": {},
   "source": [
    "Se eu quisesse exibir o nome do cliente, eu poderia fazer mais um join pegando\n",
    "o nome dele na tabela cliente, mas nesse caso, eu estou pegando um dado que eu\n",
    "consigo facilmente na subquery, existem formas de trazer dados lá de dentro,\n",
    "como por  exemplo:"
   ]
  },
  {
   "cell_type": "code",
   "execution_count": 44,
   "metadata": {
    "ExecuteTime": {
     "end_time": "2022-01-06T17:27:40.338485Z",
     "start_time": "2022-01-06T17:27:40.326947Z"
    }
   },
   "outputs": [
    {
     "name": "stdout",
     "output_type": "stream",
     "text": [
      " * sqlite:///TesteSQL.db\n",
      "Done.\n"
     ]
    },
    {
     "data": {
      "text/html": [
       "<table>\n",
       "    <tr>\n",
       "        <th>nome</th>\n",
       "        <th>produto</th>\n",
       "    </tr>\n",
       "    <tr>\n",
       "        <td>Benjamin Azevedo</td>\n",
       "        <td>prod 02</td>\n",
       "    </tr>\n",
       "    <tr>\n",
       "        <td>Benjamin Azevedo</td>\n",
       "        <td>prod 04</td>\n",
       "    </tr>\n",
       "    <tr>\n",
       "        <td>Benjamin Azevedo</td>\n",
       "        <td>prod 05</td>\n",
       "    </tr>\n",
       "    <tr>\n",
       "        <td>Benjamin Azevedo</td>\n",
       "        <td>prod 10</td>\n",
       "    </tr>\n",
       "    <tr>\n",
       "        <td>Benjamin Azevedo</td>\n",
       "        <td>prod 12</td>\n",
       "    </tr>\n",
       "    <tr>\n",
       "        <td>Benjamin Azevedo</td>\n",
       "        <td>prod 13</td>\n",
       "    </tr>\n",
       "    <tr>\n",
       "        <td>Benjamin Azevedo</td>\n",
       "        <td>prod 14</td>\n",
       "    </tr>\n",
       "    <tr>\n",
       "        <td>Benjamin Azevedo</td>\n",
       "        <td>prod 18</td>\n",
       "    </tr>\n",
       "    <tr>\n",
       "        <td>Benjamin Azevedo</td>\n",
       "        <td>prod 20</td>\n",
       "    </tr>\n",
       "    <tr>\n",
       "        <td>Benjamin Azevedo</td>\n",
       "        <td>prod 30</td>\n",
       "    </tr>\n",
       "    <tr>\n",
       "        <td>Benjamin Azevedo</td>\n",
       "        <td>prod 33</td>\n",
       "    </tr>\n",
       "    <tr>\n",
       "        <td>Benjamin Azevedo</td>\n",
       "        <td>prod 34</td>\n",
       "    </tr>\n",
       "    <tr>\n",
       "        <td>Benjamin Azevedo</td>\n",
       "        <td>prod 36</td>\n",
       "    </tr>\n",
       "    <tr>\n",
       "        <td>Benjamin Azevedo</td>\n",
       "        <td>prod 37</td>\n",
       "    </tr>\n",
       "    <tr>\n",
       "        <td>Benjamin Azevedo</td>\n",
       "        <td>prod 46</td>\n",
       "    </tr>\n",
       "    <tr>\n",
       "        <td>Benjamin Azevedo</td>\n",
       "        <td>prod 48</td>\n",
       "    </tr>\n",
       "    <tr>\n",
       "        <td>Benjamin Azevedo</td>\n",
       "        <td>prod 57</td>\n",
       "    </tr>\n",
       "    <tr>\n",
       "        <td>Benjamin Azevedo</td>\n",
       "        <td>prod 62</td>\n",
       "    </tr>\n",
       "    <tr>\n",
       "        <td>Benjamin Azevedo</td>\n",
       "        <td>prod 63</td>\n",
       "    </tr>\n",
       "    <tr>\n",
       "        <td>Benjamin Azevedo</td>\n",
       "        <td>prod 67</td>\n",
       "    </tr>\n",
       "    <tr>\n",
       "        <td>Benjamin Azevedo</td>\n",
       "        <td>prod 71</td>\n",
       "    </tr>\n",
       "    <tr>\n",
       "        <td>Benjamin Azevedo</td>\n",
       "        <td>prod 74</td>\n",
       "    </tr>\n",
       "    <tr>\n",
       "        <td>Benjamin Azevedo</td>\n",
       "        <td>prod 83</td>\n",
       "    </tr>\n",
       "    <tr>\n",
       "        <td>Benjamin Azevedo</td>\n",
       "        <td>prod 85</td>\n",
       "    </tr>\n",
       "    <tr>\n",
       "        <td>Benjamin Azevedo</td>\n",
       "        <td>prod 88</td>\n",
       "    </tr>\n",
       "    <tr>\n",
       "        <td>Benjamin Azevedo</td>\n",
       "        <td>prod 90</td>\n",
       "    </tr>\n",
       "    <tr>\n",
       "        <td>Benjamin Azevedo</td>\n",
       "        <td>prod 96</td>\n",
       "    </tr>\n",
       "</table>"
      ],
      "text/plain": [
       "[('Benjamin Azevedo', 'prod 02'),\n",
       " ('Benjamin Azevedo', 'prod 04'),\n",
       " ('Benjamin Azevedo', 'prod 05'),\n",
       " ('Benjamin Azevedo', 'prod 10'),\n",
       " ('Benjamin Azevedo', 'prod 12'),\n",
       " ('Benjamin Azevedo', 'prod 13'),\n",
       " ('Benjamin Azevedo', 'prod 14'),\n",
       " ('Benjamin Azevedo', 'prod 18'),\n",
       " ('Benjamin Azevedo', 'prod 20'),\n",
       " ('Benjamin Azevedo', 'prod 30'),\n",
       " ('Benjamin Azevedo', 'prod 33'),\n",
       " ('Benjamin Azevedo', 'prod 34'),\n",
       " ('Benjamin Azevedo', 'prod 36'),\n",
       " ('Benjamin Azevedo', 'prod 37'),\n",
       " ('Benjamin Azevedo', 'prod 46'),\n",
       " ('Benjamin Azevedo', 'prod 48'),\n",
       " ('Benjamin Azevedo', 'prod 57'),\n",
       " ('Benjamin Azevedo', 'prod 62'),\n",
       " ('Benjamin Azevedo', 'prod 63'),\n",
       " ('Benjamin Azevedo', 'prod 67'),\n",
       " ('Benjamin Azevedo', 'prod 71'),\n",
       " ('Benjamin Azevedo', 'prod 74'),\n",
       " ('Benjamin Azevedo', 'prod 83'),\n",
       " ('Benjamin Azevedo', 'prod 85'),\n",
       " ('Benjamin Azevedo', 'prod 88'),\n",
       " ('Benjamin Azevedo', 'prod 90'),\n",
       " ('Benjamin Azevedo', 'prod 96')]"
      ]
     },
     "execution_count": 44,
     "metadata": {},
     "output_type": "execute_result"
    }
   ],
   "source": [
    "%%sql\n",
    "\n",
    "    \n",
    "SELECT tb.nome, po.produto\n",
    "FROM produtos as po\n",
    "JOIN compras AS co\n",
    "ON co.ID_PRODUTO = po.ID\n",
    "join (\n",
    "    SELECT cl2.ID, cl2.nome\n",
    "    FROM clientes cl2\n",
    "    JOIN compras AS co2\n",
    "    ON co2.ID_CLIENTE = cl2.ID\n",
    "    JOIN produtos as po2\n",
    "    ON co2.ID_PRODUTO = po2.ID\n",
    "    group by cl2.nome, cl2.id\n",
    "    ORDER BY sum(po2.preço) DESC\n",
    "    LIMIT 1\n",
    ") tb on co.ID_CLIENTE = tb.ID\n",
    "group by tb.nome, po.produto"
   ]
  },
  {
   "cell_type": "markdown",
   "metadata": {},
   "source": [
    "Não existe limite de quantidade de subquerys que você pode fazer, sejam uma duas\n",
    "ou várias, fazendo uma verdadeira boneca russa, mas use com atenção, verifique\n",
    "sempre se realmente é necessário.\n",
    "\n",
    "Se por exemplo, eu quisesse saber quantos clientes compraram os mesmos\n",
    "produtos que a pessoa que mais gastou comprou\n",
    "\n",
    "\n",
    "1. Selecionar o cliente que mais gastou\n",
    "2. Selecionar todos os produtos que um cliente comprou\n",
    "3. Contar quantos clientes compraram um produto\n",
    "\n",
    "Como a query 1 e 2 já são antigas, vou fazer a 3"
   ]
  },
  {
   "cell_type": "code",
   "execution_count": 45,
   "metadata": {
    "ExecuteTime": {
     "end_time": "2022-01-06T17:27:45.770154Z",
     "start_time": "2022-01-06T17:27:45.760618Z"
    }
   },
   "outputs": [
    {
     "name": "stdout",
     "output_type": "stream",
     "text": [
      " * sqlite:///TesteSQL.db\n",
      "Done.\n"
     ]
    },
    {
     "data": {
      "text/html": [
       "<table>\n",
       "    <tr>\n",
       "        <th>produto</th>\n",
       "        <th>count(DISTINCT co.ID_CLIENTE)</th>\n",
       "    </tr>\n",
       "    <tr>\n",
       "        <td>prod 05</td>\n",
       "        <td>6</td>\n",
       "    </tr>\n",
       "</table>"
      ],
      "text/plain": [
       "[('prod 05', 6)]"
      ]
     },
     "execution_count": 45,
     "metadata": {},
     "output_type": "execute_result"
    }
   ],
   "source": [
    "%%sql\n",
    "\n",
    "-- Contar quantos clientes compraram um produto\n",
    "\n",
    "SELECT po.produto, count(DISTINCT co.ID_CLIENTE)\n",
    "FROM compras co\n",
    "JOIN produtos po on po.ID = co.ID_PRODUTO\n",
    "WHERE co.ID_PRODUTO IN (5)\n",
    "GROUP by po.produto"
   ]
  },
  {
   "cell_type": "code",
   "execution_count": 46,
   "metadata": {
    "ExecuteTime": {
     "end_time": "2022-01-06T17:27:48.364497Z",
     "start_time": "2022-01-06T17:27:48.351998Z"
    }
   },
   "outputs": [
    {
     "name": "stdout",
     "output_type": "stream",
     "text": [
      " * sqlite:///TesteSQL.db\n",
      "Done.\n"
     ]
    },
    {
     "data": {
      "text/html": [
       "<table>\n",
       "    <tr>\n",
       "        <th>produto</th>\n",
       "        <th>count(DISTINCT co.ID_CLIENTE)</th>\n",
       "    </tr>\n",
       "    <tr>\n",
       "        <td>prod 02</td>\n",
       "        <td>2</td>\n",
       "    </tr>\n",
       "    <tr>\n",
       "        <td>prod 04</td>\n",
       "        <td>7</td>\n",
       "    </tr>\n",
       "    <tr>\n",
       "        <td>prod 05</td>\n",
       "        <td>6</td>\n",
       "    </tr>\n",
       "    <tr>\n",
       "        <td>prod 10</td>\n",
       "        <td>5</td>\n",
       "    </tr>\n",
       "    <tr>\n",
       "        <td>prod 12</td>\n",
       "        <td>5</td>\n",
       "    </tr>\n",
       "    <tr>\n",
       "        <td>prod 13</td>\n",
       "        <td>5</td>\n",
       "    </tr>\n",
       "    <tr>\n",
       "        <td>prod 14</td>\n",
       "        <td>6</td>\n",
       "    </tr>\n",
       "    <tr>\n",
       "        <td>prod 18</td>\n",
       "        <td>7</td>\n",
       "    </tr>\n",
       "    <tr>\n",
       "        <td>prod 20</td>\n",
       "        <td>3</td>\n",
       "    </tr>\n",
       "    <tr>\n",
       "        <td>prod 30</td>\n",
       "        <td>7</td>\n",
       "    </tr>\n",
       "    <tr>\n",
       "        <td>prod 33</td>\n",
       "        <td>3</td>\n",
       "    </tr>\n",
       "    <tr>\n",
       "        <td>prod 34</td>\n",
       "        <td>3</td>\n",
       "    </tr>\n",
       "    <tr>\n",
       "        <td>prod 36</td>\n",
       "        <td>6</td>\n",
       "    </tr>\n",
       "    <tr>\n",
       "        <td>prod 37</td>\n",
       "        <td>4</td>\n",
       "    </tr>\n",
       "    <tr>\n",
       "        <td>prod 46</td>\n",
       "        <td>9</td>\n",
       "    </tr>\n",
       "    <tr>\n",
       "        <td>prod 48</td>\n",
       "        <td>6</td>\n",
       "    </tr>\n",
       "    <tr>\n",
       "        <td>prod 57</td>\n",
       "        <td>6</td>\n",
       "    </tr>\n",
       "    <tr>\n",
       "        <td>prod 62</td>\n",
       "        <td>4</td>\n",
       "    </tr>\n",
       "    <tr>\n",
       "        <td>prod 63</td>\n",
       "        <td>2</td>\n",
       "    </tr>\n",
       "    <tr>\n",
       "        <td>prod 67</td>\n",
       "        <td>8</td>\n",
       "    </tr>\n",
       "    <tr>\n",
       "        <td>prod 71</td>\n",
       "        <td>4</td>\n",
       "    </tr>\n",
       "    <tr>\n",
       "        <td>prod 74</td>\n",
       "        <td>4</td>\n",
       "    </tr>\n",
       "    <tr>\n",
       "        <td>prod 83</td>\n",
       "        <td>6</td>\n",
       "    </tr>\n",
       "    <tr>\n",
       "        <td>prod 85</td>\n",
       "        <td>3</td>\n",
       "    </tr>\n",
       "    <tr>\n",
       "        <td>prod 88</td>\n",
       "        <td>10</td>\n",
       "    </tr>\n",
       "    <tr>\n",
       "        <td>prod 90</td>\n",
       "        <td>8</td>\n",
       "    </tr>\n",
       "    <tr>\n",
       "        <td>prod 96</td>\n",
       "        <td>5</td>\n",
       "    </tr>\n",
       "</table>"
      ],
      "text/plain": [
       "[('prod 02', 2),\n",
       " ('prod 04', 7),\n",
       " ('prod 05', 6),\n",
       " ('prod 10', 5),\n",
       " ('prod 12', 5),\n",
       " ('prod 13', 5),\n",
       " ('prod 14', 6),\n",
       " ('prod 18', 7),\n",
       " ('prod 20', 3),\n",
       " ('prod 30', 7),\n",
       " ('prod 33', 3),\n",
       " ('prod 34', 3),\n",
       " ('prod 36', 6),\n",
       " ('prod 37', 4),\n",
       " ('prod 46', 9),\n",
       " ('prod 48', 6),\n",
       " ('prod 57', 6),\n",
       " ('prod 62', 4),\n",
       " ('prod 63', 2),\n",
       " ('prod 67', 8),\n",
       " ('prod 71', 4),\n",
       " ('prod 74', 4),\n",
       " ('prod 83', 6),\n",
       " ('prod 85', 3),\n",
       " ('prod 88', 10),\n",
       " ('prod 90', 8),\n",
       " ('prod 96', 5)]"
      ]
     },
     "execution_count": 46,
     "metadata": {},
     "output_type": "execute_result"
    }
   ],
   "source": [
    "%%sql\n",
    "\n",
    "SELECT po.produto, count(DISTINCT co.ID_CLIENTE)\n",
    "FROM compras co\n",
    "JOIN produtos po on po.ID = co.ID_PRODUTO\n",
    "WHERE co.ID_PRODUTO IN (\n",
    "    SELECT DISTINCT po2.id\n",
    "    FROM produtos as po2\n",
    "    JOIN compras AS co2\n",
    "    ON co2.ID_PRODUTO = po2.ID\n",
    "    WHERE co2.ID_CLIENTE IN (\n",
    "        SELECT cl3.ID\n",
    "        FROM clientes cl3\n",
    "        JOIN compras AS co3\n",
    "        ON co3.ID_CLIENTE = cl3.ID\n",
    "        JOIN produtos as po3\n",
    "        ON co3.ID_PRODUTO = po3.ID\n",
    "        group by cl3.nome, cl3.id\n",
    "        ORDER BY sum(po3.preço) DESC\n",
    "        LIMIT 1\n",
    "    )\n",
    ")\n",
    "GROUP by po.produto"
   ]
  },
  {
   "cell_type": "markdown",
   "metadata": {},
   "source": [
    "Mas novamente podemos simplificar usando join ao invés de where, lembre-se,\n",
    "quanto menos vezes você repetir o nome de uma tabela, melhor"
   ]
  },
  {
   "cell_type": "code",
   "execution_count": 47,
   "metadata": {
    "ExecuteTime": {
     "end_time": "2022-01-06T17:27:54.086655Z",
     "start_time": "2022-01-06T17:27:54.071655Z"
    }
   },
   "outputs": [
    {
     "name": "stdout",
     "output_type": "stream",
     "text": [
      " * sqlite:///TesteSQL.db\n",
      "Done.\n"
     ]
    },
    {
     "data": {
      "text/html": [
       "<table>\n",
       "    <tr>\n",
       "        <th>produto</th>\n",
       "        <th>count(DISTINCT co.ID_CLIENTE)</th>\n",
       "    </tr>\n",
       "    <tr>\n",
       "        <td>prod 02</td>\n",
       "        <td>2</td>\n",
       "    </tr>\n",
       "    <tr>\n",
       "        <td>prod 04</td>\n",
       "        <td>7</td>\n",
       "    </tr>\n",
       "    <tr>\n",
       "        <td>prod 05</td>\n",
       "        <td>6</td>\n",
       "    </tr>\n",
       "    <tr>\n",
       "        <td>prod 10</td>\n",
       "        <td>5</td>\n",
       "    </tr>\n",
       "    <tr>\n",
       "        <td>prod 12</td>\n",
       "        <td>5</td>\n",
       "    </tr>\n",
       "    <tr>\n",
       "        <td>prod 13</td>\n",
       "        <td>5</td>\n",
       "    </tr>\n",
       "    <tr>\n",
       "        <td>prod 14</td>\n",
       "        <td>6</td>\n",
       "    </tr>\n",
       "    <tr>\n",
       "        <td>prod 18</td>\n",
       "        <td>7</td>\n",
       "    </tr>\n",
       "    <tr>\n",
       "        <td>prod 20</td>\n",
       "        <td>3</td>\n",
       "    </tr>\n",
       "    <tr>\n",
       "        <td>prod 30</td>\n",
       "        <td>7</td>\n",
       "    </tr>\n",
       "    <tr>\n",
       "        <td>prod 33</td>\n",
       "        <td>3</td>\n",
       "    </tr>\n",
       "    <tr>\n",
       "        <td>prod 34</td>\n",
       "        <td>3</td>\n",
       "    </tr>\n",
       "    <tr>\n",
       "        <td>prod 36</td>\n",
       "        <td>6</td>\n",
       "    </tr>\n",
       "    <tr>\n",
       "        <td>prod 37</td>\n",
       "        <td>4</td>\n",
       "    </tr>\n",
       "    <tr>\n",
       "        <td>prod 46</td>\n",
       "        <td>9</td>\n",
       "    </tr>\n",
       "    <tr>\n",
       "        <td>prod 48</td>\n",
       "        <td>6</td>\n",
       "    </tr>\n",
       "    <tr>\n",
       "        <td>prod 57</td>\n",
       "        <td>6</td>\n",
       "    </tr>\n",
       "    <tr>\n",
       "        <td>prod 62</td>\n",
       "        <td>4</td>\n",
       "    </tr>\n",
       "    <tr>\n",
       "        <td>prod 63</td>\n",
       "        <td>2</td>\n",
       "    </tr>\n",
       "    <tr>\n",
       "        <td>prod 67</td>\n",
       "        <td>8</td>\n",
       "    </tr>\n",
       "    <tr>\n",
       "        <td>prod 71</td>\n",
       "        <td>4</td>\n",
       "    </tr>\n",
       "    <tr>\n",
       "        <td>prod 74</td>\n",
       "        <td>4</td>\n",
       "    </tr>\n",
       "    <tr>\n",
       "        <td>prod 83</td>\n",
       "        <td>6</td>\n",
       "    </tr>\n",
       "    <tr>\n",
       "        <td>prod 85</td>\n",
       "        <td>3</td>\n",
       "    </tr>\n",
       "    <tr>\n",
       "        <td>prod 88</td>\n",
       "        <td>10</td>\n",
       "    </tr>\n",
       "    <tr>\n",
       "        <td>prod 90</td>\n",
       "        <td>8</td>\n",
       "    </tr>\n",
       "    <tr>\n",
       "        <td>prod 96</td>\n",
       "        <td>5</td>\n",
       "    </tr>\n",
       "</table>"
      ],
      "text/plain": [
       "[('prod 02', 2),\n",
       " ('prod 04', 7),\n",
       " ('prod 05', 6),\n",
       " ('prod 10', 5),\n",
       " ('prod 12', 5),\n",
       " ('prod 13', 5),\n",
       " ('prod 14', 6),\n",
       " ('prod 18', 7),\n",
       " ('prod 20', 3),\n",
       " ('prod 30', 7),\n",
       " ('prod 33', 3),\n",
       " ('prod 34', 3),\n",
       " ('prod 36', 6),\n",
       " ('prod 37', 4),\n",
       " ('prod 46', 9),\n",
       " ('prod 48', 6),\n",
       " ('prod 57', 6),\n",
       " ('prod 62', 4),\n",
       " ('prod 63', 2),\n",
       " ('prod 67', 8),\n",
       " ('prod 71', 4),\n",
       " ('prod 74', 4),\n",
       " ('prod 83', 6),\n",
       " ('prod 85', 3),\n",
       " ('prod 88', 10),\n",
       " ('prod 90', 8),\n",
       " ('prod 96', 5)]"
      ]
     },
     "execution_count": 47,
     "metadata": {},
     "output_type": "execute_result"
    }
   ],
   "source": [
    "%%sql\n",
    "\n",
    "SELECT po.produto, count(DISTINCT co.ID_CLIENTE)\n",
    "FROM compras co\n",
    "JOIN produtos as po on co.ID_PRODUTO = po.ID\n",
    "JOIN (\n",
    "    SELECT cl3.ID\n",
    "    FROM clientes cl3\n",
    "    JOIN compras AS co3\n",
    "    ON co3.ID_CLIENTE = cl3.ID\n",
    "    JOIN produtos as po3\n",
    "    ON co3.ID_PRODUTO = po3.ID\n",
    "    group by cl3.nome, cl3.id\n",
    "    ORDER BY sum(po3.preço) DESC\n",
    "    LIMIT 1\n",
    ") q1\n",
    "JOIN(\n",
    "    SELECT co2.id_PRODUTO, co2.ID_CLIENTE\n",
    "    FROM compras AS co2\n",
    "    GROUP BY co2.id_PRODUTO, co2.ID_CLIENTE\n",
    ") q2 ON co.ID_PRODUTO = q2.ID_PRODUTO AND q2.ID_CLIENTE = q1.ID\n",
    "GROUP by po.produto"
   ]
  },
  {
   "cell_type": "markdown",
   "metadata": {},
   "source": [
    "# With\n",
    "\n",
    "Muitas vezes fica confuso ficar colocando várias subquerys no meio da query \n",
    "pricipal, ou você quer repetir ela, não quer ter que trocar alias e etc.\n",
    "\n",
    "Para resolver esses problemas, ou até outros, consulte a \n",
    "[documentação](https://www.sqlite.org/lang_with.html) para ver\n",
    "tudo o que ele é capaz, existe o `WITH`."
   ]
  },
  {
   "cell_type": "code",
   "execution_count": 48,
   "metadata": {
    "ExecuteTime": {
     "end_time": "2022-01-06T17:28:11.724261Z",
     "start_time": "2022-01-06T17:28:11.709270Z"
    }
   },
   "outputs": [
    {
     "name": "stdout",
     "output_type": "stream",
     "text": [
      " * sqlite:///TesteSQL.db\n",
      "Done.\n"
     ]
    },
    {
     "data": {
      "text/html": [
       "<table>\n",
       "    <tr>\n",
       "        <th>produto</th>\n",
       "        <th>count(DISTINCT co.ID_CLIENTE)</th>\n",
       "    </tr>\n",
       "    <tr>\n",
       "        <td>prod 02</td>\n",
       "        <td>2</td>\n",
       "    </tr>\n",
       "    <tr>\n",
       "        <td>prod 04</td>\n",
       "        <td>7</td>\n",
       "    </tr>\n",
       "    <tr>\n",
       "        <td>prod 05</td>\n",
       "        <td>6</td>\n",
       "    </tr>\n",
       "    <tr>\n",
       "        <td>prod 10</td>\n",
       "        <td>5</td>\n",
       "    </tr>\n",
       "    <tr>\n",
       "        <td>prod 12</td>\n",
       "        <td>5</td>\n",
       "    </tr>\n",
       "    <tr>\n",
       "        <td>prod 13</td>\n",
       "        <td>5</td>\n",
       "    </tr>\n",
       "    <tr>\n",
       "        <td>prod 14</td>\n",
       "        <td>6</td>\n",
       "    </tr>\n",
       "    <tr>\n",
       "        <td>prod 18</td>\n",
       "        <td>7</td>\n",
       "    </tr>\n",
       "    <tr>\n",
       "        <td>prod 20</td>\n",
       "        <td>3</td>\n",
       "    </tr>\n",
       "    <tr>\n",
       "        <td>prod 30</td>\n",
       "        <td>7</td>\n",
       "    </tr>\n",
       "    <tr>\n",
       "        <td>prod 33</td>\n",
       "        <td>3</td>\n",
       "    </tr>\n",
       "    <tr>\n",
       "        <td>prod 34</td>\n",
       "        <td>3</td>\n",
       "    </tr>\n",
       "    <tr>\n",
       "        <td>prod 36</td>\n",
       "        <td>6</td>\n",
       "    </tr>\n",
       "    <tr>\n",
       "        <td>prod 37</td>\n",
       "        <td>4</td>\n",
       "    </tr>\n",
       "    <tr>\n",
       "        <td>prod 46</td>\n",
       "        <td>9</td>\n",
       "    </tr>\n",
       "    <tr>\n",
       "        <td>prod 48</td>\n",
       "        <td>6</td>\n",
       "    </tr>\n",
       "    <tr>\n",
       "        <td>prod 57</td>\n",
       "        <td>6</td>\n",
       "    </tr>\n",
       "    <tr>\n",
       "        <td>prod 62</td>\n",
       "        <td>4</td>\n",
       "    </tr>\n",
       "    <tr>\n",
       "        <td>prod 63</td>\n",
       "        <td>2</td>\n",
       "    </tr>\n",
       "    <tr>\n",
       "        <td>prod 67</td>\n",
       "        <td>8</td>\n",
       "    </tr>\n",
       "    <tr>\n",
       "        <td>prod 71</td>\n",
       "        <td>4</td>\n",
       "    </tr>\n",
       "    <tr>\n",
       "        <td>prod 74</td>\n",
       "        <td>4</td>\n",
       "    </tr>\n",
       "    <tr>\n",
       "        <td>prod 83</td>\n",
       "        <td>6</td>\n",
       "    </tr>\n",
       "    <tr>\n",
       "        <td>prod 85</td>\n",
       "        <td>3</td>\n",
       "    </tr>\n",
       "    <tr>\n",
       "        <td>prod 88</td>\n",
       "        <td>10</td>\n",
       "    </tr>\n",
       "    <tr>\n",
       "        <td>prod 90</td>\n",
       "        <td>8</td>\n",
       "    </tr>\n",
       "    <tr>\n",
       "        <td>prod 96</td>\n",
       "        <td>5</td>\n",
       "    </tr>\n",
       "</table>"
      ],
      "text/plain": [
       "[('prod 02', 2),\n",
       " ('prod 04', 7),\n",
       " ('prod 05', 6),\n",
       " ('prod 10', 5),\n",
       " ('prod 12', 5),\n",
       " ('prod 13', 5),\n",
       " ('prod 14', 6),\n",
       " ('prod 18', 7),\n",
       " ('prod 20', 3),\n",
       " ('prod 30', 7),\n",
       " ('prod 33', 3),\n",
       " ('prod 34', 3),\n",
       " ('prod 36', 6),\n",
       " ('prod 37', 4),\n",
       " ('prod 46', 9),\n",
       " ('prod 48', 6),\n",
       " ('prod 57', 6),\n",
       " ('prod 62', 4),\n",
       " ('prod 63', 2),\n",
       " ('prod 67', 8),\n",
       " ('prod 71', 4),\n",
       " ('prod 74', 4),\n",
       " ('prod 83', 6),\n",
       " ('prod 85', 3),\n",
       " ('prod 88', 10),\n",
       " ('prod 90', 8),\n",
       " ('prod 96', 5)]"
      ]
     },
     "execution_count": 48,
     "metadata": {},
     "output_type": "execute_result"
    }
   ],
   "source": [
    "%%sql\n",
    "\n",
    "WITH q1 AS (\n",
    "    SELECT cl.ID\n",
    "    FROM clientes cl\n",
    "    JOIN compras AS co\n",
    "    ON co.ID_CLIENTE = cl.ID\n",
    "    JOIN produtos as po\n",
    "    ON co.ID_PRODUTO = po.ID\n",
    "    group by cl.nome, cl.id\n",
    "    ORDER BY sum(po.preço) DESC\n",
    "    LIMIT 1\n",
    "),\n",
    "q2 AS (\n",
    "    SELECT co.id_PRODUTO, co.ID_CLIENTE\n",
    "    FROM compras AS co\n",
    "    GROUP BY co.id_PRODUTO, co.ID_CLIENTE\n",
    ")\n",
    "SELECT po.produto, count(DISTINCT co.ID_CLIENTE)\n",
    "FROM compras co\n",
    "JOIN produtos as po on co.ID_PRODUTO = po.ID\n",
    "JOIN q1\n",
    "JOIN q2 ON co.ID_PRODUTO = q2.ID_PRODUTO AND q2.ID_CLIENTE = q1.ID\n",
    "GROUP by po.produto"
   ]
  },
  {
   "cell_type": "markdown",
   "metadata": {},
   "source": [
    "## Exercício 11\n",
    "\n",
    "Traga todos os clientes que compraram o produto que menos vendeu"
   ]
  },
  {
   "cell_type": "code",
   "execution_count": 50,
   "metadata": {},
   "outputs": [
    {
     "name": "stdout",
     "output_type": "stream",
     "text": [
      " * sqlite:///TesteSQL.db\n",
      "Done.\n"
     ]
    },
    {
     "data": {
      "text/html": [
       "<table>\n",
       "    <tr>\n",
       "        <th>nome</th>\n",
       "        <th>produto</th>\n",
       "    </tr>\n",
       "    <tr>\n",
       "        <td>Emanuel das Neves</td>\n",
       "        <td>prod 08</td>\n",
       "    </tr>\n",
       "</table>"
      ],
      "text/plain": [
       "[('Emanuel das Neves', 'prod 08')]"
      ]
     },
     "execution_count": 50,
     "metadata": {},
     "output_type": "execute_result"
    }
   ],
   "source": [
    "%%sql\n",
    "\n",
    "\n",
    "    \n",
    "SELECT DISTINCT cl.nome, po.produto      -- todos os clientes que compraram\n",
    "FROM clientes cl \n",
    "JOIN compras AS co\n",
    "ON co.ID_CLIENTE = cl.ID\n",
    "JOIN produtos as po\n",
    "ON co.ID_PRODUTO = po.ID \n",
    "WHERE co.ID_PRODUTO IN (             -- colocar o mesmo no select\n",
    "SELECT  co2.ID_PRODUTO              -- produto que menos vendeu\n",
    "    FROM clientes cl2\n",
    "    JOIN compras AS co2\n",
    "    ON co2.ID_CLIENTE = cl2.ID\n",
    "    JOIN produtos as po2\n",
    "    ON co2.ID_PRODUTO = po2.ID\n",
    "    group by po2.produto\n",
    "    order by  count(*)\n",
    "    limit 1\n",
    ")"
   ]
  },
  {
   "cell_type": "markdown",
   "metadata": {},
   "source": [
    "## Exercício 12\n",
    "\n",
    "Traga quanto gastou cada cliente que comprou o produto que menos vendeu"
   ]
  },
  {
   "cell_type": "code",
   "execution_count": 52,
   "metadata": {
    "scrolled": true
   },
   "outputs": [
    {
     "name": "stdout",
     "output_type": "stream",
     "text": [
      " * sqlite:///TesteSQL.db\n",
      "Done.\n"
     ]
    },
    {
     "data": {
      "text/html": [
       "<table>\n",
       "    <tr>\n",
       "        <th>nome</th>\n",
       "        <th>id_cliente</th>\n",
       "        <th>gasto</th>\n",
       "    </tr>\n",
       "    <tr>\n",
       "        <td>Emanuel das Neves</td>\n",
       "        <td>3</td>\n",
       "        <td>150.98999999999998</td>\n",
       "    </tr>\n",
       "    <tr>\n",
       "        <td>Sr. Nicolas Cardoso</td>\n",
       "        <td>5</td>\n",
       "        <td>99.44999999999999</td>\n",
       "    </tr>\n",
       "    <tr>\n",
       "        <td>Alícia Araújo</td>\n",
       "        <td>6</td>\n",
       "        <td>131.49999999999997</td>\n",
       "    </tr>\n",
       "    <tr>\n",
       "        <td>Brenda Porto</td>\n",
       "        <td>9</td>\n",
       "        <td>80.25</td>\n",
       "    </tr>\n",
       "    <tr>\n",
       "        <td>Isis Ramos</td>\n",
       "        <td>19</td>\n",
       "        <td>153.81</td>\n",
       "    </tr>\n",
       "</table>"
      ],
      "text/plain": [
       "[('Emanuel das Neves', 3, 150.98999999999998),\n",
       " ('Sr. Nicolas Cardoso', 5, 99.44999999999999),\n",
       " ('Alícia Araújo', 6, 131.49999999999997),\n",
       " ('Brenda Porto', 9, 80.25),\n",
       " ('Isis Ramos', 19, 153.81)]"
      ]
     },
     "execution_count": 52,
     "metadata": {},
     "output_type": "execute_result"
    }
   ],
   "source": [
    "%%sql\n",
    "\n",
    "WITH quantidade_de_produto_mv as (         \n",
    "\tSELECT count(*) as qtd\n",
    "\tFROM compras AS co\n",
    "\tgroup by co.id_produto\n",
    "\torder by qtd\n",
    "\tlimit 1\t\n",
    "),\n",
    "produto_que_menos_vendeu AS (                                 -- produto que menos vendeu\n",
    "\tSELECT co.ID_PRODUTO, count(*) as qtd\n",
    "\tFROM compras AS co\n",
    "\tgroup by co.id_produto\n",
    "\thaving qtd = (SELECT qtd from quantidade_de_produto_mv)\n",
    "),\n",
    "oq_cd_1_comprou as (                               -- o que cada cliente comprou\n",
    "\tSELECT\n",
    "\t\tcl.nome, \n",
    "\t\tco.id_cliente,\n",
    "\t\tpo.produto,\n",
    "\t\tco.id_produto,\n",
    "\t\tpo.preço \n",
    "\tFROM clientes cl\n",
    "\tJOIN compras AS co ON co.ID_CLIENTE = cl.ID\n",
    "\tJOIN produtos as po ON co.ID_PRODUTO = po.ID\n",
    "), quanto_cada_um_gastou as (                          -- quanto gastou cada cliente\n",
    "   SELECT \n",
    "    id_cliente,\n",
    "    nome,\n",
    " \tsum(preço) as gasto\n",
    "   FROM oq_cd_1_comprou\n",
    "   group by id_cliente, nome\n",
    " )\n",
    " , quem_comprou_menos_vendeu as (               -- quem comprou o que menos vendeu\n",
    "\tselect \n",
    " \tDISTINCT nome, id_cliente \n",
    " \tFROM oq_cd_1_comprou as occ\n",
    " \tJOIN produto_que_menos_vendeu as pmv ON occ.id_produto = pmv.id_produto\n",
    " )\n",
    "  SELECT                                  -- quanto gastou cada cliente que comprou o produto que menos vendeu\n",
    "  qcmv.nome, qcmv.id_cliente, gasto\n",
    "  FROM quanto_cada_um_gastou as qcug\n",
    "  JOIN quem_comprou_menos_vendeu as qcmv ON   qcug.id_cliente = qcmv.id_cliente"
   ]
  },
  {
   "cell_type": "markdown",
   "metadata": {},
   "source": [
    "## Exercício 13\n",
    "\n",
    "Quanto em média os clientes gastaram?"
   ]
  },
  {
   "cell_type": "code",
   "execution_count": 53,
   "metadata": {},
   "outputs": [
    {
     "name": "stdout",
     "output_type": "stream",
     "text": [
      " * sqlite:///TesteSQL.db\n",
      "Done.\n"
     ]
    },
    {
     "data": {
      "text/html": [
       "<table>\n",
       "    <tr>\n",
       "        <th>média</th>\n",
       "    </tr>\n",
       "    <tr>\n",
       "        <td>123.708</td>\n",
       "    </tr>\n",
       "</table>"
      ],
      "text/plain": [
       "[(123.708,)]"
      ]
     },
     "execution_count": 53,
     "metadata": {},
     "output_type": "execute_result"
    }
   ],
   "source": [
    "%%sql\n",
    "\n",
    "SELECT sum(po.preço)/count(distinct co.id_cliente) as média\n",
    "FROM clientes cl \n",
    "JOIN compras AS co\n",
    "ON co.ID_CLIENTE = cl.ID\n",
    "JOIN produtos as po\n",
    "ON co.ID_PRODUTO = po.ID"
   ]
  },
  {
   "cell_type": "markdown",
   "metadata": {},
   "source": [
    "## Exercício 14\n",
    "\n",
    "Quanto em média gastou cada cliente?"
   ]
  },
  {
   "cell_type": "code",
   "execution_count": 54,
   "metadata": {
    "scrolled": true
   },
   "outputs": [
    {
     "name": "stdout",
     "output_type": "stream",
     "text": [
      " * sqlite:///TesteSQL.db\n",
      "Done.\n"
     ]
    },
    {
     "data": {
      "text/html": [
       "<table>\n",
       "    <tr>\n",
       "        <th>nome</th>\n",
       "        <th>média</th>\n",
       "    </tr>\n",
       "    <tr>\n",
       "        <td>Alícia Araújo</td>\n",
       "        <td>4.870370370370369</td>\n",
       "    </tr>\n",
       "    <tr>\n",
       "        <td>André da Cruz</td>\n",
       "        <td>4.675652173913043</td>\n",
       "    </tr>\n",
       "    <tr>\n",
       "        <td>Augusto Costa</td>\n",
       "        <td>4.392222222222222</td>\n",
       "    </tr>\n",
       "    <tr>\n",
       "        <td>Benjamin Azevedo</td>\n",
       "        <td>5.781666666666667</td>\n",
       "    </tr>\n",
       "    <tr>\n",
       "        <td>Brenda Porto</td>\n",
       "        <td>5.35</td>\n",
       "    </tr>\n",
       "    <tr>\n",
       "        <td>Bruno da Rosa</td>\n",
       "        <td>5.585789473684212</td>\n",
       "    </tr>\n",
       "    <tr>\n",
       "        <td>Eduarda Gonçalves</td>\n",
       "        <td>5.2437499999999995</td>\n",
       "    </tr>\n",
       "    <tr>\n",
       "        <td>Emanuel das Neves</td>\n",
       "        <td>4.870645161290322</td>\n",
       "    </tr>\n",
       "    <tr>\n",
       "        <td>Enrico Gonçalves</td>\n",
       "        <td>4.807619047619048</td>\n",
       "    </tr>\n",
       "    <tr>\n",
       "        <td>Isis Ramos</td>\n",
       "        <td>4.8065625</td>\n",
       "    </tr>\n",
       "    <tr>\n",
       "        <td>João Miguel Lopes</td>\n",
       "        <td>4.648750000000001</td>\n",
       "    </tr>\n",
       "    <tr>\n",
       "        <td>Juliana Silveira</td>\n",
       "        <td>5.434827586206899</td>\n",
       "    </tr>\n",
       "    <tr>\n",
       "        <td>Luigi Souza</td>\n",
       "        <td>4.686428571428571</td>\n",
       "    </tr>\n",
       "    <tr>\n",
       "        <td>Marcos Vinicius Novaes</td>\n",
       "        <td>4.593846153846155</td>\n",
       "    </tr>\n",
       "    <tr>\n",
       "        <td>Rafaela Fernandes</td>\n",
       "        <td>4.654642857142858</td>\n",
       "    </tr>\n",
       "    <tr>\n",
       "        <td>Sr. Nicolas Cardoso</td>\n",
       "        <td>4.520454545454545</td>\n",
       "    </tr>\n",
       "    <tr>\n",
       "        <td>Sr. Renan Castro</td>\n",
       "        <td>5.604444444444444</td>\n",
       "    </tr>\n",
       "    <tr>\n",
       "        <td>Sra. Laura Pinto</td>\n",
       "        <td>5.456842105263159</td>\n",
       "    </tr>\n",
       "    <tr>\n",
       "        <td>Srta. Amanda Moreira</td>\n",
       "        <td>4.792903225806453</td>\n",
       "    </tr>\n",
       "    <tr>\n",
       "        <td>Srta. Ana Beatriz Jesus</td>\n",
       "        <td>4.285384615384616</td>\n",
       "    </tr>\n",
       "</table>"
      ],
      "text/plain": [
       "[('Alícia Araújo', 4.870370370370369),\n",
       " ('André da Cruz', 4.675652173913043),\n",
       " ('Augusto Costa', 4.392222222222222),\n",
       " ('Benjamin Azevedo', 5.781666666666667),\n",
       " ('Brenda Porto', 5.35),\n",
       " ('Bruno da Rosa', 5.585789473684212),\n",
       " ('Eduarda Gonçalves', 5.2437499999999995),\n",
       " ('Emanuel das Neves', 4.870645161290322),\n",
       " ('Enrico Gonçalves', 4.807619047619048),\n",
       " ('Isis Ramos', 4.8065625),\n",
       " ('João Miguel Lopes', 4.648750000000001),\n",
       " ('Juliana Silveira', 5.434827586206899),\n",
       " ('Luigi Souza', 4.686428571428571),\n",
       " ('Marcos Vinicius Novaes', 4.593846153846155),\n",
       " ('Rafaela Fernandes', 4.654642857142858),\n",
       " ('Sr. Nicolas Cardoso', 4.520454545454545),\n",
       " ('Sr. Renan Castro', 5.604444444444444),\n",
       " ('Sra. Laura Pinto', 5.456842105263159),\n",
       " ('Srta. Amanda Moreira', 4.792903225806453),\n",
       " ('Srta. Ana Beatriz Jesus', 4.285384615384616)]"
      ]
     },
     "execution_count": 54,
     "metadata": {},
     "output_type": "execute_result"
    }
   ],
   "source": [
    "%%sql\n",
    "\n",
    "SELECT cl.nome, sum(po.preço)/count(*) as média\n",
    "FROM clientes cl \n",
    "JOIN compras AS co\n",
    "ON co.ID_CLIENTE = cl.ID\n",
    "JOIN produtos as po\n",
    "ON co.ID_PRODUTO = po.ID\n",
    "group by cl.nome\n"
   ]
  },
  {
   "cell_type": "markdown",
   "metadata": {},
   "source": [
    "## Exercício 15\n",
    "\n",
    "Quantos clientes tem cada faixa etária (Agrupe por faixa de 10 anos)\n",
    "\n",
    "i.e.: \\[18 -> 19\\], \\[20 -> 29\\], \\[30 -> 39\\], ..."
   ]
  },
  {
   "cell_type": "code",
   "execution_count": 55,
   "metadata": {
    "ExecuteTime": {
     "end_time": "2021-12-28T13:54:57.477072Z",
     "start_time": "2021-12-28T13:54:57.467573Z"
    }
   },
   "outputs": [
    {
     "name": "stdout",
     "output_type": "stream",
     "text": [
      " * sqlite:///TesteSQL.db\n",
      "Done.\n"
     ]
    },
    {
     "data": {
      "text/html": [
       "<table>\n",
       "    <tr>\n",
       "        <th>faixa_etaria</th>\n",
       "        <th>count(*)</th>\n",
       "    </tr>\n",
       "    <tr>\n",
       "        <td>20</td>\n",
       "        <td>3</td>\n",
       "    </tr>\n",
       "    <tr>\n",
       "        <td>30</td>\n",
       "        <td>9</td>\n",
       "    </tr>\n",
       "    <tr>\n",
       "        <td>40</td>\n",
       "        <td>6</td>\n",
       "    </tr>\n",
       "    <tr>\n",
       "        <td>50</td>\n",
       "        <td>2</td>\n",
       "    </tr>\n",
       "</table>"
      ],
      "text/plain": [
       "[(20, 3), (30, 9), (40, 6), (50, 2)]"
      ]
     },
     "execution_count": 55,
     "metadata": {},
     "output_type": "execute_result"
    }
   ],
   "source": [
    "%%sql\n",
    "\n",
    "SELECT cast(idade/10 AS integer)*10 as faixa_etaria, count(*)\n",
    "FROM clientes cl\n",
    "group by faixa_etaria"
   ]
  },
  {
   "cell_type": "markdown",
   "metadata": {},
   "source": [
    "## Exercício 16\n",
    "\n",
    "Qual é o gasto médio para cada faixa etária?"
   ]
  },
  {
   "cell_type": "code",
   "execution_count": 56,
   "metadata": {},
   "outputs": [
    {
     "name": "stdout",
     "output_type": "stream",
     "text": [
      " * sqlite:///TesteSQL.db\n",
      "Done.\n"
     ]
    },
    {
     "data": {
      "text/html": [
       "<table>\n",
       "    <tr>\n",
       "        <th>faixa_etaria</th>\n",
       "        <th>gasto_médio</th>\n",
       "    </tr>\n",
       "    <tr>\n",
       "        <td>20</td>\n",
       "        <td>138.8433333333333</td>\n",
       "    </tr>\n",
       "    <tr>\n",
       "        <td>30</td>\n",
       "        <td>113.59333333333328</td>\n",
       "    </tr>\n",
       "    <tr>\n",
       "        <td>40</td>\n",
       "        <td>126.37333333333332</td>\n",
       "    </tr>\n",
       "    <tr>\n",
       "        <td>50</td>\n",
       "        <td>138.52499999999998</td>\n",
       "    </tr>\n",
       "</table>"
      ],
      "text/plain": [
       "[(20, 138.8433333333333),\n",
       " (30, 113.59333333333328),\n",
       " (40, 126.37333333333332),\n",
       " (50, 138.52499999999998)]"
      ]
     },
     "execution_count": 56,
     "metadata": {},
     "output_type": "execute_result"
    }
   ],
   "source": [
    "%%sql\n",
    "\n",
    "SELECT cast(idade/10 AS integer)*10 as faixa_etaria, sum(po.preço)/count(distinct co.id_cliente) as gasto_médio\n",
    "FROM clientes cl\n",
    "JOIN compras AS co\n",
    "ON co.ID_CLIENTE = cl.ID\n",
    "JOIN produtos as po\n",
    "ON co.ID_PRODUTO = po.ID\n",
    "group by faixa_etaria"
   ]
  },
  {
   "cell_type": "markdown",
   "metadata": {},
   "source": [
    "## Exercício 17\n",
    "\n",
    "Quais foram os 5 produtos que mais venderam na faixa etária que teve maior\n",
    "gasto médio?"
   ]
  },
  {
   "cell_type": "code",
   "execution_count": 59,
   "metadata": {},
   "outputs": [
    {
     "name": "stdout",
     "output_type": "stream",
     "text": [
      " * sqlite:///TesteSQL.db\n",
      "(sqlite3.OperationalError) near \"SELECT\": syntax error\n",
      "[SQL: SELECT po.produto, count(*)            -- 5 produtos que mais venderam\n",
      "FROM clientes cl\n",
      "JOIN compras AS co\n",
      "ON co.ID_CLIENTE = cl.ID\n",
      "JOIN produtos as po\n",
      "ON co.ID_PRODUTO = po.ID\n",
      "group by po.produto\n",
      "order by  count(*) DESC\n",
      "limit 5\n",
      "\n",
      "\n",
      "SELECT cast(idade/10 AS integer)*10 as faixa_etaria, sum(po.preço)/count(distinct co.id_cliente) as gasto_médio   -- MAIOR GASTO MÉDIO\n",
      "FROM clientes cl\n",
      "JOIN compras AS co\n",
      "ON co.ID_CLIENTE = cl.ID\n",
      "JOIN produtos as po\n",
      "ON co.ID_PRODUTO = po.ID\n",
      "group by faixa_etaria\n",
      "order by gasto_médio DESC\n",
      "limit 1]\n",
      "(Background on this error at: https://sqlalche.me/e/14/e3q8)\n"
     ]
    }
   ],
   "source": [
    "%%sql\n",
    "\n",
    "SELECT po.produto, count(*)            -- 5 produtos que mais venderam\n",
    "FROM clientes cl\n",
    "JOIN compras AS co\n",
    "ON co.ID_CLIENTE = cl.ID\n",
    "JOIN produtos as po\n",
    "ON co.ID_PRODUTO = po.ID\n",
    "group by po.produto\n",
    "order by  count(*) DESC\n",
    "limit 5\n",
    "\n",
    "\n",
    "SELECT cast(idade/10 AS integer)*10 as faixa_etaria, sum(po.preço)/count(distinct co.id_cliente) as gasto_médio   -- MAIOR GASTO MÉDIO\n",
    "FROM clientes cl\n",
    "JOIN compras AS co\n",
    "ON co.ID_CLIENTE = cl.ID\n",
    "JOIN produtos as po\n",
    "ON co.ID_PRODUTO = po.ID\n",
    "group by faixa_etaria\n",
    "order by gasto_médio DESC\n",
    "limit 1\n",
    "\n",
    "\n"
   ]
  },
  {
   "cell_type": "markdown",
   "metadata": {},
   "source": [
    "## Exercício 18\n",
    "\n",
    "Quais foram os 5 produtos que mais venderam na faixa etária que teve maior\n",
    "gasto absoluto?"
   ]
  },
  {
   "cell_type": "code",
   "execution_count": 60,
   "metadata": {},
   "outputs": [
    {
     "name": "stdout",
     "output_type": "stream",
     "text": [
      " * sqlite:///TesteSQL.db\n",
      "(sqlite3.OperationalError) near \"SELECT\": syntax error\n",
      "[SQL: SELECT po.produto, count(*)            -- 5 produtos que mais venderam\n",
      "FROM clientes cl\n",
      "JOIN compras AS co\n",
      "ON co.ID_CLIENTE = cl.ID\n",
      "JOIN produtos as po\n",
      "ON co.ID_PRODUTO = po.ID\n",
      "group by po.produto\n",
      "order by  count(*) DESC\n",
      "limit 5\n",
      "\n",
      "\n",
      "\n",
      "\n",
      "SELECT cast(idade/10 AS integer)*10 as faixa_etaria, sum(po.preço) as gasto_absoluto   -- MAIOR GASTO ABSOLUTO\n",
      "FROM clientes cl\n",
      "JOIN compras AS co\n",
      "ON co.ID_CLIENTE = cl.ID\n",
      "JOIN produtos as po\n",
      "ON co.ID_PRODUTO = po.ID\n",
      "group by faixa_etaria\n",
      "order by gasto_absoluto DESC\n",
      "limit 1]\n",
      "(Background on this error at: https://sqlalche.me/e/14/e3q8)\n"
     ]
    }
   ],
   "source": [
    "%%sql\n",
    "\n",
    "SELECT po.produto, count(*)            -- 5 produtos que mais venderam\n",
    "FROM clientes cl\n",
    "JOIN compras AS co\n",
    "ON co.ID_CLIENTE = cl.ID\n",
    "JOIN produtos as po\n",
    "ON co.ID_PRODUTO = po.ID\n",
    "group by po.produto\n",
    "order by  count(*) DESC\n",
    "limit 5\n",
    "\n",
    "\n",
    "\n",
    "\n",
    "SELECT cast(idade/10 AS integer)*10 as faixa_etaria, sum(po.preço) as gasto_absoluto   -- MAIOR GASTO ABSOLUTO\n",
    "FROM clientes cl\n",
    "JOIN compras AS co\n",
    "ON co.ID_CLIENTE = cl.ID\n",
    "JOIN produtos as po\n",
    "ON co.ID_PRODUTO = po.ID\n",
    "group by faixa_etaria\n",
    "order by gasto_absoluto DESC\n",
    "limit 1"
   ]
  },
  {
   "cell_type": "markdown",
   "metadata": {},
   "source": []
  },
  {
   "cell_type": "code",
   "execution_count": null,
   "metadata": {},
   "outputs": [],
   "source": []
  },
  {
   "cell_type": "code",
   "execution_count": null,
   "metadata": {},
   "outputs": [],
   "source": []
  },
  {
   "cell_type": "code",
   "execution_count": null,
   "metadata": {},
   "outputs": [],
   "source": []
  }
 ],
 "metadata": {
  "kernelspec": {
   "display_name": "Python 3 (ipykernel)",
   "language": "python",
   "name": "python3"
  },
  "language_info": {
   "codemirror_mode": {
    "name": "ipython",
    "version": 3
   },
   "file_extension": ".py",
   "mimetype": "text/x-python",
   "name": "python",
   "nbconvert_exporter": "python",
   "pygments_lexer": "ipython3",
   "version": "3.11.1"
  },
  "varInspector": {
   "cols": {
    "lenName": 16,
    "lenType": 16,
    "lenVar": 40
   },
   "kernels_config": {
    "python": {
     "delete_cmd_postfix": "",
     "delete_cmd_prefix": "del ",
     "library": "var_list.py",
     "varRefreshCmd": "print(var_dic_list())"
    },
    "r": {
     "delete_cmd_postfix": ") ",
     "delete_cmd_prefix": "rm(",
     "library": "var_list.r",
     "varRefreshCmd": "cat(var_dic_list()) "
    }
   },
   "types_to_exclude": [
    "module",
    "function",
    "builtin_function_or_method",
    "instance",
    "_Feature"
   ],
   "window_display": false
  }
 },
 "nbformat": 4,
 "nbformat_minor": 4
}
